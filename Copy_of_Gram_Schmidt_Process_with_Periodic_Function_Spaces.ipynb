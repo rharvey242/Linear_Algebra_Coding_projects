{
  "nbformat": 4,
  "nbformat_minor": 0,
  "metadata": {
    "colab": {
      "provenance": [],
      "include_colab_link": true
    },
    "kernelspec": {
      "name": "python3",
      "display_name": "Python 3"
    },
    "language_info": {
      "name": "python"
    }
  },
  "cells": [
    {
      "cell_type": "markdown",
      "metadata": {
        "id": "view-in-github",
        "colab_type": "text"
      },
      "source": [
        "<a href=\"https://colab.research.google.com/github/rharvey242/Linear_Algebra_Coding_projects/blob/main/Copy_of_Gram_Schmidt_Process_with_Periodic_Function_Spaces.ipynb\" target=\"_parent\"><img src=\"https://colab.research.google.com/assets/colab-badge.svg\" alt=\"Open In Colab\"/></a>"
      ]
    },
    {
      "cell_type": "markdown",
      "source": [
        "Related Youtube Video on a talking piano by Mark Rober - watch before completing the activity:  https://www.youtube.com/watch?v=uBEL3YVzMwk\n",
        "\n",
        "\n",
        "\n",
        "# Gram-Schmidt Process with Function Spaces\n",
        "\n",
        "1. Project 1: Polynomial spaces\n",
        "  1. Choose a \"random\" basis for polynomials of degree 4 or less on the interval $$ -2 \\le t \\le 2 $$\n",
        "  2. Create the inner product (dot product) and norm (magnitude) functions\n",
        "  3. Go through the Gram-Schmidt process to turn the random basis into a nice orthonormal basis\n",
        "  4. Write some different functions in the orthonormal basis.\n",
        "\n",
        "\n",
        "2. Project 2: Homework for this project:\n",
        "  1. Choose a \"random\" basis for periodic functions on the interval $$ -\\pi \\le t \\le \\pi $$\n",
        "  2. Create the inner product (dot product) and norm (magnitude) functions\n",
        "  3. Do the Gram-Schmidt process to turn the random basis into a nice orthonormal basis\n",
        "  4. Write some different functiosn in the orthonormal basis."
      ],
      "metadata": {
        "id": "7cIMTgEm8cgt"
      }
    },
    {
      "cell_type": "code",
      "execution_count": 3,
      "metadata": {
        "id": "tWo4yv9o8YGx"
      },
      "outputs": [],
      "source": [
        "#  Libraries that we'll need:\n",
        "import numpy as np\n",
        "import sympy as sym\n",
        "from sympy.plotting import plot\n",
        "import matplotlib.pyplot as plt\n",
        "\n",
        "# We'll specify that x and t are variables:\n",
        "x, t, k, j = sym.symbols('x, t, k, j')"
      ]
    },
    {
      "cell_type": "markdown",
      "source": [
        "# Project 2: Create an Orthonormal Basis for Periodic Function Spaces"
      ],
      "metadata": {
        "id": "PRAOELGEhz9V"
      }
    },
    {
      "cell_type": "markdown",
      "source": [
        "## Part 1. Choose a \"random\" basis for periodic functions on the interval \n",
        "$$ -\\pi \\le x \\le \\pi $$\n",
        "\n",
        "We'll use a naming convention c# and s#, where # is the number of periods that are repeating in the function.  We'll include sine and cosine functions in pairs.\n",
        "\n",
        "$$  c0 = cos(0x) = 1 \\hspace{1cm}  \\hspace{3cm}  $$\n",
        "$$  c1 = cos(x)  \\hspace{1cm} s1 = sin(x) $$\n",
        "$$  c2 = cos(2x)  \\hspace{1cm} s2 = sin(2x) $$\n",
        "$$     \\vdots  \\hspace{4cm} \\vdots $$\n",
        "$$  c4 = cos(4x)  \\hspace{1cm} s4 = sin(4x) $$\n",
        "\n",
        "[ We won't include $s0 = sin(0x)$, since this is just the zero function. "
      ],
      "metadata": {
        "id": "b9foyBoY-KJ3"
      }
    },
    {
      "cell_type": "code",
      "source": [
        "from sympy.simplify.fu import CTR4\n",
        "# Our \"random\" vectors:\n",
        "c0 = 1\n",
        "s1 = sym.sin(x)\n",
        "c1 = sym.cos(x)\n",
        "c2=sym.cos(2*x)\n",
        "s2=sym.sin(2*x)\n",
        "c3=sym.cos(3*x)\n",
        "s3=sym.sin(3*x)\n",
        "c4=sym.cos(4*x)\n",
        "s4=sym.sin(4*x)\n",
        "###  YOU FILL THESE IN ###\n",
        "\n"
      ],
      "metadata": {
        "id": "JC16q2x7gGmc"
      },
      "execution_count": 4,
      "outputs": []
    },
    {
      "cell_type": "markdown",
      "source": [
        "## Part 2. Create and Scale the inner product (dot product) and norm (magnitude) functions"
      ],
      "metadata": {
        "id": "S0j2ZV7IhjPu"
      }
    },
    {
      "cell_type": "markdown",
      "source": [
        "The inner product that works with the *continuous* functions $f$ and $g$ is\n",
        "\n",
        "$$ < f | g > \\approx \\int_{\\textrm{Left}}^{\\textrm{Right}} g(x) f(x) \\; dx $$\n",
        "\n",
        "or\n",
        "\n",
        "$$ < f | g > = k \\int_{\\textrm{Left}}^{\\textrm{Right}} g(x) f(x) \\; dx $$\n",
        "\n",
        "We'll include a scaling factor $k$ for convenience, so that the inner product of the constant function $f(x) = 1$ with itself will be one. That is, we'd like\n",
        "\n",
        "$$< 1 | 1 >  = 1$$\n",
        "\n",
        "Since we're working with periodic functions, and $cos(0x) = 1$, we'd like:\n",
        "\n",
        "$$ < \\, cos(0x) \\, |\\, cos(0x) \\, > = 1 $$\n"
      ],
      "metadata": {
        "id": "zSrmfcm3vWvi"
      }
    },
    {
      "cell_type": "markdown",
      "source": [
        "### 3a. Determining the scaling constant for the inner product on this function space\n",
        "\n",
        "Find the scaling constant so that the inner product on the constant function $f(x) = 1$ with itself is 1 on the interval \n",
        "\n",
        "$$ \\pi \\le x \\le \\pi$$"
      ],
      "metadata": {
        "id": "iSpgCI1-21Th"
      }
    },
    {
      "cell_type": "code",
      "source": [
        "### We need to fix this inner product:\n",
        "\n",
        "#  Note:  pi is written as  sym.pi\n",
        "sym.integrate(1*1, (x,-sym.pi,sym.pi))"
      ],
      "metadata": {
        "id": "cW-TxG33iQ8k",
        "outputId": "ab26f8e0-c86a-49ed-f341-fb4136158047",
        "colab": {
          "base_uri": "https://localhost:8080/",
          "height": 39
        }
      },
      "execution_count": 5,
      "outputs": [
        {
          "output_type": "execute_result",
          "data": {
            "text/plain": [
              "2*pi"
            ],
            "text/latex": "$\\displaystyle 2 \\pi$"
          },
          "metadata": {},
          "execution_count": 5
        }
      ]
    },
    {
      "cell_type": "markdown",
      "source": [
        "### 3b. Defining the inner product and norm\n",
        "\n",
        "Using this factor, we'll define our inner product as a function `ip(f,g)` as \n",
        "\n",
        "$$ < \\, f \\, | \\, g \\, > = \\frac{1}{ ?? } \\int_{-\\pi}^{\\pi} g(x) \\, f(x) \\; dx $$\n",
        "\n",
        "The norm, or magnitude, of a vector $f$ will be given by\n",
        "\n",
        "$$ \\left| f \\right| = \\sqrt{ < \\, f \\, | \\, f \\, > }$$\n",
        "\n",
        "We'll use this to define our norm function `n(f)`.  Because of our adjusted scaling factor, we expect the norm of the constant function $f(x) = 1$, written $f(x) = cos(0\\,x)$,  to be:\n",
        "\n",
        "$$ \\left| \\cos(0x) \\right| = 1$$\n"
      ],
      "metadata": {
        "id": "AroAi3ae3jDg"
      }
    },
    {
      "cell_type": "code",
      "source": [
        "# YOU SHOULD FIX THIS:\n",
        "def ip(a,b):\n",
        "    return (1/(2*sym.pi)) * sym.integrate(a*b, (x, -sym.pi, sym.pi))\n",
        "\n",
        "def n(a):\n",
        "    return sym.sqrt(ip(a,a))"
      ],
      "metadata": {
        "id": "dSBdSm0V4HNp"
      },
      "execution_count": 6,
      "outputs": []
    },
    {
      "cell_type": "markdown",
      "source": [
        "### 3c. Test the scaling constant on the inner product and norm\n",
        "\n",
        "We'll check that everything works:  \n",
        "\n",
        "  * Is $< 1 | 1 > = 1$\n",
        "\n",
        "  * Is $\\left| 1 \\right| = 1$?"
      ],
      "metadata": {
        "id": "0aVS636T5RxY"
      }
    },
    {
      "cell_type": "code",
      "source": [
        "# check that ip(1,1) = 1 and n(1) = 1:\n",
        "print(\"Testing that <1|1> is 1, and |1| = 1: \")\n",
        "print(\"ip(1,1) = \", ip(1,1))\n",
        "print(\"n(1) = \", n(1))\n"
      ],
      "metadata": {
        "id": "4TolMcRc5a4L",
        "outputId": "da4143f2-c7be-48fb-a05a-733a9326e8d1",
        "colab": {
          "base_uri": "https://localhost:8080/"
        }
      },
      "execution_count": 8,
      "outputs": [
        {
          "output_type": "stream",
          "name": "stdout",
          "text": [
            "Testing that <1|1> is 1, and |1| = 1: \n",
            "ip(1,1) =  1\n",
            "n(1) =  1\n"
          ]
        }
      ]
    },
    {
      "cell_type": "markdown",
      "source": [
        "## Part 4. Perform the Gram-Schmidt process to create an orthonormal basis from the random basis.\n",
        "\n",
        "We have the *random* basis\n",
        "\n",
        "$$  c0 = cos(0x) = 1 \\hspace{1cm}  \\hspace{3cm}  $$\n",
        "$$  c1 = cos(x)  \\hspace{1cm} s1 = sin(x) $$\n",
        "$$  c2 = cos(2x)  \\hspace{1cm} s2 = sin(2x) $$\n",
        "$$     \\vdots  \\hspace{4cm} \\vdots $$\n",
        "$$  c4 = cos(4x)  \\hspace{1cm} s4 = sin(4x) $$\n",
        "\n",
        "We'll use code to perform the Gram-Schmidt Orthonormalization Process to generate the nice *orthonormal* basis given by \n",
        "\n",
        "$$   uc_0  \\hspace{1cm} uc_1 \\hspace{1cm} us_1 \\hspace{1cm} uc_2 \\hspace{1cm} us_2 \\hspace{1cm} \\cdots \\hspace{1cm} uc_4 \\hspace{1cm} us_4 $$\n",
        "\n",
        "This involves four steps:\n",
        "  1.  Select an unprocessed vector from the random basis\n",
        "  2.  Find the vector component $t$ perpendicular to the space spanned our existing nice basis vectors by $uc_0, uc_1, us_1, \\cdots, uc_{i-1}, us_{i-1}$.  That is, we'll generalize this expression:\n",
        "$$ T_i = r_i - <\\, r_i \\, | \\, u_1 \\, > \\, u_1 - <\\, r_i \\, | \\, u_2 \\, > \\, u_2 - \\cdots - <\\, r_i \\, | \\, u_{i-1} \\, > \\, u_{i-1}$$\n",
        "for use with our basis vectors.\n",
        "  3.  Normalized $t$ and set it to $uc_i$ or $us_i$, if it is non-zero:\n",
        "  $$ uc_i = \\frac{1}{\\left| t \\right|} t  \\hspace{.5cm} \\textrm{ or }  \\hspace{.5cm} us_i = \\frac{1}{\\left| t \\right| } t \\hspace{.5cm} \\textrm{ if $T_i \\ne \\vec{0}$ }$$\n",
        "  4.  Test that our new vector has norm $1$ and is orthogonal to the previous vectors in the orthonormal basis.  That is, perform this but use our basis vectors $uc0, uc1, us1, \\cdots$:\n",
        "  $$ \\textrm{ Check: } \\left| u_i \\right| = 1 \\textrm{ and } < \\, u_i \\, | \\, u_1 \\, > = 0, \\cdots, < \\, u_i \\, | \\, u_{i-1} \\, > = 0$$"
      ],
      "metadata": {
        "id": "kwAIOSA4uZia"
      }
    },
    {
      "cell_type": "markdown",
      "source": [
        "### 4a. Find the first vector $uc_0$, and do sanity checks"
      ],
      "metadata": {
        "id": "jfoV9lBIxM5j"
      }
    },
    {
      "cell_type": "code",
      "source": [
        "# Find the orthogonal part to the existing nice basis:\n",
        "t0 = c0\n",
        "print(\"t0 = \", t0)"
      ],
      "metadata": {
        "id": "bFKnBt8hAX5f",
        "outputId": "fa62ec2d-ccfa-47ab-ee17-afeec45a149f",
        "colab": {
          "base_uri": "https://localhost:8080/"
        }
      },
      "execution_count": 9,
      "outputs": [
        {
          "output_type": "stream",
          "name": "stdout",
          "text": [
            "t0 =  1\n"
          ]
        }
      ]
    },
    {
      "cell_type": "code",
      "source": [
        "# Normalize:\n",
        "print(\"|t0| = \", n(t0))\n",
        "uc0 = (1/n(t0))*t0\n",
        "print(\"uc0 = \", uc0)"
      ],
      "metadata": {
        "id": "ZOzD1BQHAkRS",
        "outputId": "97a36080-5f91-47c2-f8bb-e123d0e5e00e",
        "colab": {
          "base_uri": "https://localhost:8080/"
        }
      },
      "execution_count": 10,
      "outputs": [
        {
          "output_type": "stream",
          "name": "stdout",
          "text": [
            "|t0| =  1\n",
            "uc0 =  1\n"
          ]
        }
      ]
    },
    {
      "cell_type": "code",
      "source": [
        "# Check that uc0 has size 1 and is orthogonal to prior ui's:\n",
        "print(\"Check:  The size of uc0 is \", n(uc0))\n",
        "#print(\"Check:  The inner product of u0 and ... is \", ip(uc0,uc0))"
      ],
      "metadata": {
        "id": "wSMMBxY9222T",
        "outputId": "94a1f537-bd58-441e-b7bd-a8e3da9bdea0",
        "colab": {
          "base_uri": "https://localhost:8080/"
        }
      },
      "execution_count": 11,
      "outputs": [
        {
          "output_type": "stream",
          "name": "stdout",
          "text": [
            "Check:  The size of uc0 is  1\n"
          ]
        }
      ]
    },
    {
      "cell_type": "markdown",
      "source": [
        "### 4b. Process $c1 = cos(x)$ and do sanity checks."
      ],
      "metadata": {
        "id": "QTG09GL13UgV"
      }
    },
    {
      "cell_type": "code",
      "source": [
        "# Find the orthogonal part to the existing u_i's:\n",
        "tc1 = c1 - ip(c1, uc0)*uc0\n",
        "print(\"tc1 = \", tc1)"
      ],
      "metadata": {
        "id": "zQlcGPsfBIlW",
        "outputId": "4766363d-7517-4258-880b-8f421566d2cf",
        "colab": {
          "base_uri": "https://localhost:8080/"
        }
      },
      "execution_count": 12,
      "outputs": [
        {
          "output_type": "stream",
          "name": "stdout",
          "text": [
            "tc1 =  cos(x)\n"
          ]
        }
      ]
    },
    {
      "cell_type": "code",
      "source": [
        "#Normalize\n",
        "print(\"|tc1| = \", n(tc1))\n",
        "uc1 = (1/n(tc1))*tc1\n",
        "print(\"uc1 = \", uc1)\n",
        "#print(\"uc1 = \", sym.simplify(uc1))"
      ],
      "metadata": {
        "id": "jWcoF8AjBQgB",
        "outputId": "a4e4d50b-3692-4572-e2f3-6434866a6163",
        "colab": {
          "base_uri": "https://localhost:8080/"
        }
      },
      "execution_count": 13,
      "outputs": [
        {
          "output_type": "stream",
          "name": "stdout",
          "text": [
            "|tc1| =  sqrt(2)/2\n",
            "uc1 =  sqrt(2)*cos(x)\n"
          ]
        }
      ]
    },
    {
      "cell_type": "code",
      "source": [
        "# Sanity Check:  Check that uc1 has size 1 and is orthogonal to prior u's:\n",
        "print(\"Check:  The size of uc1 is: \", n(uc1))\n",
        "#print(\"Check:  The size of uc1 is: \", sym.simplify(n(uc1)))\n",
        "print(\"Check:  The inner product of uc1 and uc0 is: \", ip(uc1,uc0))"
      ],
      "metadata": {
        "id": "Vg2xK2szBv_n",
        "outputId": "196af377-859f-4f34-f99d-30959f0279fd",
        "colab": {
          "base_uri": "https://localhost:8080/"
        }
      },
      "execution_count": 14,
      "outputs": [
        {
          "output_type": "stream",
          "name": "stdout",
          "text": [
            "Check:  The size of uc1 is:  1\n",
            "Check:  The inner product of uc1 and uc0 is:  0\n"
          ]
        }
      ]
    },
    {
      "cell_type": "markdown",
      "source": [
        "### 4c. Process $s1 = sin(x)$ and do sanity checks"
      ],
      "metadata": {
        "id": "5Ir3XlVH7kkp"
      }
    },
    {
      "cell_type": "code",
      "source": [
        "#  Now, do the same steps above for sin(1x):\n",
        "# Find the orthogonal part to the existing nice orthogonal basis:\n",
        "ts1 = s1 - ip(s1, uc0)*uc0 - ip(s1, uc1)*uc1\n",
        "print(\"ts1 = \", ts1)\n",
        "# Normalize:\n",
        "print(\"|ts1| = \", n(ts1))\n",
        "# Form the new orthogonal vector:\n",
        "us1 = (1/n(ts1))*ts1\n",
        "print(\"us1 = \", us1)"
      ],
      "metadata": {
        "id": "DIjr8F0o5mWB",
        "outputId": "f68590b8-a38d-4334-8224-e219e866460f",
        "colab": {
          "base_uri": "https://localhost:8080/"
        }
      },
      "execution_count": 17,
      "outputs": [
        {
          "output_type": "stream",
          "name": "stdout",
          "text": [
            "ts1 =  sin(x)\n",
            "|ts1| =  sqrt(2)/2\n",
            "us1 =  sqrt(2)*sin(x)\n"
          ]
        }
      ]
    },
    {
      "cell_type": "code",
      "source": [
        "\n",
        "# Sanity Check:  Check that us1 has size 1 and is orthogonal to prior u's:\n",
        "print(\"Check:  The size of us1 is: \", n(us1))\n",
        "print(\"Check:  The inner product of us1 and uc0 is: \", ip(us1,uc0))\n",
        "print(\"Check:  The inner product of us1 and uc1 is: \", ip(us1,uc1))"
      ],
      "metadata": {
        "id": "E4aerByv52Sp",
        "outputId": "24710e0c-7c41-4b67-e8e0-4d77f42790fa",
        "colab": {
          "base_uri": "https://localhost:8080/"
        }
      },
      "execution_count": 18,
      "outputs": [
        {
          "output_type": "stream",
          "name": "stdout",
          "text": [
            "Check:  The size of us1 is:  1\n",
            "Check:  The inner product of us1 and uc0 is:  0\n",
            "Check:  The inner product of us1 and uc1 is:  0\n"
          ]
        }
      ]
    },
    {
      "cell_type": "markdown",
      "source": [
        "### 4d. Process $c2, s2, c3, s3, c4, $ and $s4$ in order to find $uc2, us2, uc3, us3, uc4, $ and $us4$:"
      ],
      "metadata": {
        "id": "2Cla_rLK7w1b"
      }
    },
    {
      "cell_type": "code",
      "source": [
        "tc2= c2 - ip(c2, uc0)*uc0-ip(c2,uc1)*uc1\n",
        "print(\"tc2 = \", tc2)\n",
        "print(\"|tc2| = \", n(tc2))\n",
        "uc2 = (1/n(tc2))*tc2\n",
        "print(\"uc2 = \", uc2)\n",
        "#print(\"uc2 = \", sym.simplify(uc2))\n",
        "print(\"Check:  The size of uc2 is: \", n(uc2))\n",
        "#print(\"Check:  The size of uc1 is: \", sym.simplify(n(uc1)))\n",
        "print(\"Check:  The inner product of uc2 and uc0 is: \", ip(uc2,uc0))\n",
        "print(\"Check:  The inner product of uc2 and uc1 is: \", ip(uc2,uc1))"
      ],
      "metadata": {
        "id": "unFfhCZV8yW0",
        "colab": {
          "base_uri": "https://localhost:8080/"
        },
        "outputId": "0facfc10-981d-4da8-ae17-dc61050a5ce9"
      },
      "execution_count": 19,
      "outputs": [
        {
          "output_type": "stream",
          "name": "stdout",
          "text": [
            "tc2 =  cos(2*x)\n",
            "|tc2| =  sqrt(2)/2\n",
            "uc2 =  sqrt(2)*cos(2*x)\n",
            "Check:  The size of uc2 is:  1\n",
            "Check:  The inner product of uc2 and uc0 is:  0\n",
            "Check:  The inner product of uc2 and uc1 is:  0\n"
          ]
        }
      ]
    },
    {
      "cell_type": "markdown",
      "source": [
        "#### Find uc_2, and do sanity checks"
      ],
      "metadata": {
        "id": "Xo-Y3Xk1BlGc"
      }
    },
    {
      "cell_type": "code",
      "source": [
        "ts2= s2-ip(s2,us1)*us1\n",
        "print(\"ts2 = \", ts2)\n",
        "print(\"|ts2| = \", n(ts2))\n",
        "us2 = (1/n(ts2))*ts2\n",
        "print(\"us2 = \", us2)\n",
        "#print(\"uc2 = \", sym.simplify(uc2))\n",
        "print(\"Check:  The size of us2 is: \", n(us2))\n",
        "#print(\"Check:  The size of uc1 is: \", sym.simplify(n(uc1)))\n",
        "print(\"Check:  The inner product of us2 and us1 is: \", ip(us2,us1))"
      ],
      "metadata": {
        "id": "Tnhan1Af8zv-",
        "colab": {
          "base_uri": "https://localhost:8080/"
        },
        "outputId": "98a1186d-3526-4675-94e4-ff3523bc6052"
      },
      "execution_count": 20,
      "outputs": [
        {
          "output_type": "stream",
          "name": "stdout",
          "text": [
            "ts2 =  sin(2*x)\n",
            "|ts2| =  sqrt(2)/2\n",
            "us2 =  sqrt(2)*sin(2*x)\n",
            "Check:  The size of us2 is:  1\n",
            "Check:  The inner product of us2 and us1 is:  0\n"
          ]
        }
      ]
    },
    {
      "cell_type": "markdown",
      "source": [
        "#### Find us_2, and do sanity checks"
      ],
      "metadata": {
        "id": "dCj1G1RN8ba1"
      }
    },
    {
      "cell_type": "markdown",
      "source": [
        "#### FInd $uc_3$ and do sanity checks"
      ],
      "metadata": {
        "id": "NEYJf-Ba83aQ"
      }
    },
    {
      "cell_type": "code",
      "source": [
        "tc3= c3 - ip(c3, uc0)*uc0-ip(c3,uc1)*uc1-ip(c3,uc2)*uc2\n",
        "print(\"tc3 = \", tc3)\n",
        "print(\"|tc3| = \", n(tc3))\n",
        "uc3 = (1/n(tc3))*tc3\n",
        "print(\"uc3 = \", uc3)\n",
        "#print(\"Check:  The size of uc3 is: \", sym.simplify(n(uc3)))\n",
        "print(\"Check:  The inner product of uc3 and uc0 is: \", ip(uc3,uc0))\n",
        "print(\"Check:  The inner product of uc3 and uc1 is: \", ip(uc3,uc1))\n",
        "print(\"Check:  The inner product of uc3 and uc2 is: \", ip(uc3,uc2))"
      ],
      "metadata": {
        "id": "HcVQwObz862a",
        "colab": {
          "base_uri": "https://localhost:8080/"
        },
        "outputId": "cfae309e-dcbe-4ed5-b501-4d68ea7ec4c3"
      },
      "execution_count": 23,
      "outputs": [
        {
          "output_type": "stream",
          "name": "stdout",
          "text": [
            "tc3 =  cos(3*x)\n",
            "|tc3| =  sqrt(2)/2\n",
            "uc3 =  sqrt(2)*cos(3*x)\n",
            "Check:  The inner product of uc3 and uc0 is:  0\n",
            "Check:  The inner product of uc3 and uc1 is:  0\n",
            "Check:  The inner product of uc3 and uc2 is:  0\n"
          ]
        }
      ]
    },
    {
      "cell_type": "markdown",
      "source": [
        "#### Find $us_3$ and do sanity checks"
      ],
      "metadata": {
        "id": "adxFe7nz88CK"
      }
    },
    {
      "cell_type": "code",
      "source": [
        "ts3= s3-ip(s3,us1)*us1-ip(s3,us2)*us2\n",
        "print(\"ts3 = \", ts3)\n",
        "print(\"|ts3| = \", n(ts3))\n",
        "us3 = (1/n(ts3))*ts3\n",
        "print(\"us3 = \", us3)\n",
        "#print(\"uc3 = \", sym.simplify(uc3))\n",
        "print(\"Check:  The size of us3 is: \", n(us3))\n",
        "#print(\"Check:  The size of uc3 is: \", sym.simplify(n(uc3)))\n",
        "print(\"Check:  The inner product of us3 and us1 is: \", ip(us3,us1))\n",
        "print(\"Check:  The inner product of us3 and us2 is: \", ip(us3,us2))"
      ],
      "metadata": {
        "id": "IajmnIQr9EoH",
        "colab": {
          "base_uri": "https://localhost:8080/"
        },
        "outputId": "c6575ec7-72f6-4d9d-f034-3563a120583e"
      },
      "execution_count": 24,
      "outputs": [
        {
          "output_type": "stream",
          "name": "stdout",
          "text": [
            "ts3 =  sin(3*x)\n",
            "|ts3| =  sqrt(2)/2\n",
            "us3 =  sqrt(2)*sin(3*x)\n",
            "Check:  The size of us3 is:  1\n",
            "Check:  The inner product of us3 and us1 is:  0\n",
            "Check:  The inner product of us3 and us2 is:  0\n"
          ]
        }
      ]
    },
    {
      "cell_type": "markdown",
      "source": [
        "#### Find $uc_4$ and do sanity checks"
      ],
      "metadata": {
        "id": "IyXe-4BN9FN1"
      }
    },
    {
      "cell_type": "code",
      "source": [
        "tc4= c4 - ip(c4, uc0)*uc0-ip(c4,uc1)*uc1-ip(c4,uc2)*uc2-ip(c4,uc3)*uc3\n",
        "print(\"tc4 = \", tc4)\n",
        "print(\"|tc4| = \", n(tc4))\n",
        "uc4 = (1/n(tc4))*tc4\n",
        "print(\"uc4 = \", uc4)\n",
        "#print(\"uc3 = \", sym.simplify(uc3))\n",
        "print(\"Check:  The size of uc4 is: \", n(uc4))\n",
        "#print(\"Check:  The size of uc3 is: \", sym.simplify(n(uc3)))\n",
        "print(\"Check:  The inner product of uc4 and uc0 is: \", ip(uc4,uc0))\n",
        "print(\"Check:  The inner product of uc4 and uc1 is: \", ip(uc4,uc1))\n",
        "print(\"Check:  The inner product of uc4 and uc2 is: \", ip(uc4,uc2))\n",
        "print(\"Check:  The inner product of uc4 and uc3 is: \", ip(uc4,uc3))"
      ],
      "metadata": {
        "id": "-K_2Mlyu9J3j",
        "colab": {
          "base_uri": "https://localhost:8080/"
        },
        "outputId": "4e4d3049-70f2-4fd0-a2fd-8fa1b1065392"
      },
      "execution_count": 25,
      "outputs": [
        {
          "output_type": "stream",
          "name": "stdout",
          "text": [
            "tc4 =  cos(4*x)\n",
            "|tc4| =  sqrt(2)/2\n",
            "uc4 =  sqrt(2)*cos(4*x)\n",
            "Check:  The size of uc4 is:  1\n",
            "Check:  The inner product of uc4 and uc0 is:  0\n",
            "Check:  The inner product of uc4 and uc1 is:  0\n",
            "Check:  The inner product of uc4 and uc2 is:  0\n",
            "Check:  The inner product of uc4 and uc3 is:  0\n"
          ]
        }
      ]
    },
    {
      "cell_type": "markdown",
      "source": [
        "#### FInd $us_4$ and do sanity checks"
      ],
      "metadata": {
        "id": "PTd4y8aG9KnN"
      }
    },
    {
      "cell_type": "code",
      "source": [
        "ts4= s4-ip(s4,us1)*us1-ip(s4,us2)*us2-ip(s4,us3)*us3\n",
        "print(\"ts4 = \", ts4)\n",
        "print(\"|ts4| = \", n(ts4))\n",
        "uc4 = (1/n(ts4))*ts4\n",
        "print(\"us4 = \", us4)\n",
        "print(\"Check:  The size of us4 is: \", n(us4))\n",
        "print(\"Check:  The inner product of us4 and us1 is: \", ip(us4,us1))\n",
        "print(\"Check:  The inner product of us4 and us2 is: \", ip(us4,us2))\n",
        "print(\"Check:  The inner product of us4 and us3 is: \", ip(us4,us3))"
      ],
      "metadata": {
        "id": "CVV8q8jl9N_u",
        "colab": {
          "base_uri": "https://localhost:8080/"
        },
        "outputId": "ef0ccddd-9f98-4313-e209-aa25eaeb4667"
      },
      "execution_count": 36,
      "outputs": [
        {
          "output_type": "stream",
          "name": "stdout",
          "text": [
            "ts4 =  nan\n",
            "|ts4| =  nan\n",
            "us4 =  nan\n",
            "Check:  The size of us4 is:  nan\n",
            "Check:  The inner product of us4 and us1 is:  nan\n",
            "Check:  The inner product of us4 and us2 is:  nan\n",
            "Check:  The inner product of us4 and us3 is:  nan\n"
          ]
        }
      ]
    },
    {
      "cell_type": "markdown",
      "source": [
        "### 4f. The orthonormal basis:"
      ],
      "metadata": {
        "id": "3k5JpggMMg9s"
      }
    },
    {
      "cell_type": "code",
      "source": [
        "#The new basis:\n",
        "print(\"The Orthonormal Basis: \")\n",
        "print(\"uc0 = \", uc0)\n",
        "print(\"uc1 = \", uc1)\n",
        "print(\"us1 = \", us1)\n",
        "print(\"uc2 = \", uc2)\n",
        "print(\"us1 = \", us2)\n",
        "print(\"uc3 = \", uc3)\n",
        "print(\"us1 = \", us3)\n",
        "print(\"uc4 = \", uc4)\n",
        "print(\"us1 = \", us4)\n"
      ],
      "metadata": {
        "id": "twiBrPQy3Pdr",
        "colab": {
          "base_uri": "https://localhost:8080/"
        },
        "outputId": "1f8befc0-8616-46e7-8d26-e1afd0a668dd"
      },
      "execution_count": 37,
      "outputs": [
        {
          "output_type": "stream",
          "name": "stdout",
          "text": [
            "The Orthonormal Basis: \n",
            "uc0 =  1\n",
            "uc1 =  sqrt(2)*cos(x)\n",
            "us1 =  sqrt(2)*sin(x)\n",
            "uc2 =  sqrt(2)*cos(2*x)\n",
            "us1 =  sqrt(2)*sin(2*x)\n",
            "uc3 =  sqrt(2)*cos(3*x)\n",
            "us1 =  nan\n",
            "uc4 =  nan\n",
            "us1 =  nan\n"
          ]
        }
      ]
    },
    {
      "cell_type": "markdown",
      "source": [
        "## Part 5. Express various functions in the orthonormal basis."
      ],
      "metadata": {
        "id": "MTB9HyFquhvg"
      }
    },
    {
      "cell_type": "markdown",
      "source": [
        "### 5a. Approximate $x$ in this orthonormal basis\n",
        "\n",
        "We approximate the functions using four iterations:\n",
        "\n",
        "  1.  Just using $uc0$\n",
        "  2.  Using $uc0, uc1,$ and $us1$\n",
        "  3.  Also including $uc2$ and $us2$\n",
        "  4.  Also including $uc3$ and $us3$\n",
        "  5.  Finally using all the basis elements by also including $uc4$ and $us4$."
      ],
      "metadata": {
        "id": "FxIXFRKE0_e-"
      }
    },
    {
      "cell_type": "code",
      "source": [
        "pp = x\n",
        "plot_original = plot(pp, (x,-sym.pi,sym.pi), line_color='black', show=False)\n",
        "\n",
        "pp0 = ip(pp,uc0)*uc0 \n",
        "plot0 = plot(pp0, (x,-sym.pi,sym.pi), line_color='red', show=False)\n",
        "print(\"0th approximation to \", pp , \" is: \", pp0)\n",
        "plot0.extend(plot_original)\n",
        "plot0.show()\n",
        "\n",
        "pp1 = ip(pp,uc0)*uc0 + ip(pp,uc1)*uc1 + ip(pp,us1)*us1 \n",
        "plot1 = plot(pp1, (x,-sym.pi,sym.pi), line_color='orange', show=False)\n",
        "print(\"1st approximation to \", pp , \" is: \", pp1)\n",
        "plot1.extend(plot_original)\n",
        "plot1.show()\n",
        "\n",
        "pp2 = ip(pp,uc0)*uc0+ ip(pp,uc1)*uc1 + ip(pp,us1)*us1 + ip(pp,uc2)*uc2  + ip(pp,us2)*us2\n",
        "plot2 = plot(pp2, (x,-sym.pi,sym.pi), line_color='green', show=False)\n",
        "print(\"2nd approximation to \", pp , \" is: \", pp2)\n",
        "plot2.extend(plot_original)\n",
        "plot2.show()\n",
        "\n",
        "pp3 = ip(pp,uc0)*uc0+ ip(pp,uc1)*uc1 + ip(pp,us1)*us1 + ip(pp,uc2)*uc2  + ip(pp,us2)*us2 + ip(pp,uc3)*uc3  + ip(pp,us3)*us3\n",
        "plot3 = plot(pp3, (x,-sym.pi,sym.pi), line_color='blue', show=False)\n",
        "print(\"3rd approximation to \", pp , \" is: \", pp3)\n",
        "plot3.extend(plot_original)\n",
        "plot3.show()\n",
        "\n",
        "pp4 = ip(pp,uc0)*uc0+ ip(pp,uc1)*uc1 + ip(pp,us1)*us1 + ip(pp,uc2)*uc2  + ip(pp,us2)*us2 + ip(pp,uc3)*uc3  + ip(pp,us3)*us3 + ip(pp,uc4)*uc4 + ip(pp,us4)*us4\n",
        "plot4 = plot(pp4, (x,-sym.pi,sym.pi), line_color='purple', show=False)\n",
        "print(\"4th approximation to \", pp , \" is: \", pp4)\n",
        "plot4.extend(plot_original)\n",
        "plot4.show()\n",
        "\n",
        "\n",
        "# plot all of them:\n",
        "plot_original.extend(plot0)\n",
        "plot_original.extend(plot1)\n",
        "plot_original.extend(plot2)\n",
        "plot_original.extend(plot3)\n",
        "plot_original.extend(plot4)\n",
        "plot_original.show()"
      ],
      "metadata": {
        "id": "Wg4A71vr3gLk",
        "colab": {
          "base_uri": "https://localhost:8080/",
          "height": 1000
        },
        "outputId": "2e896d80-e5b8-45ac-f799-e781dc26d544"
      },
      "execution_count": 38,
      "outputs": [
        {
          "output_type": "stream",
          "name": "stdout",
          "text": [
            "0th approximation to  x  is:  0\n"
          ]
        },
        {
          "output_type": "display_data",
          "data": {
            "text/plain": [
              "<Figure size 432x288 with 1 Axes>"
            ],
            "image/png": "[encoded data removed]"
          },
          "metadata": {
            "needs_background": "light"
          }
        },
        {
          "output_type": "stream",
          "name": "stdout",
          "text": [
            "1st approximation to  x  is:  2*sin(x)\n"
          ]
        },
        {
          "output_type": "display_data",
          "data": {
            "text/plain": [
              "<Figure size 432x288 with 1 Axes>"
            ],
            "image/png": "[encoded data removed]"
          },
          "metadata": {
            "needs_background": "light"
          }
        },
        {
          "output_type": "stream",
          "name": "stdout",
          "text": [
            "2nd approximation to  x  is:  2*sin(x) - sin(2*x)\n"
          ]
        },
        {
          "output_type": "display_data",
          "data": {
            "text/plain": [
              "<Figure size 432x288 with 1 Axes>"
            ],
            "image/png": "[encoded data removed]"
          },
          "metadata": {
            "needs_background": "light"
          }
        },
        {
          "output_type": "stream",
          "name": "stdout",
          "text": [
            "3rd approximation to  x  is:  nan\n"
          ]
        },
        {
          "output_type": "error",
          "ename": "NameError",
          "evalue": "ignored",
          "traceback": [
            "\u001b[0;31m---------------------------------------------------------------------------\u001b[0m",
            "\u001b[0;31mNameError\u001b[0m                                 Traceback (most recent call last)",
            "\u001b[0;32m<ipython-input-38-f420fbaa3815>\u001b[0m in \u001b[0;36m<module>\u001b[0;34m\u001b[0m\n\u001b[1;32m     24\u001b[0m \u001b[0mprint\u001b[0m\u001b[0;34m(\u001b[0m\u001b[0;34m\"3rd approximation to \"\u001b[0m\u001b[0;34m,\u001b[0m \u001b[0mpp\u001b[0m \u001b[0;34m,\u001b[0m \u001b[0;34m\" is: \"\u001b[0m\u001b[0;34m,\u001b[0m \u001b[0mpp3\u001b[0m\u001b[0;34m)\u001b[0m\u001b[0;34m\u001b[0m\u001b[0;34m\u001b[0m\u001b[0m\n\u001b[1;32m     25\u001b[0m \u001b[0mplot3\u001b[0m\u001b[0;34m.\u001b[0m\u001b[0mextend\u001b[0m\u001b[0;34m(\u001b[0m\u001b[0mplot_original\u001b[0m\u001b[0;34m)\u001b[0m\u001b[0;34m\u001b[0m\u001b[0;34m\u001b[0m\u001b[0m\n\u001b[0;32m---> 26\u001b[0;31m \u001b[0mplot3\u001b[0m\u001b[0;34m.\u001b[0m\u001b[0mshow\u001b[0m\u001b[0;34m(\u001b[0m\u001b[0;34m)\u001b[0m\u001b[0;34m\u001b[0m\u001b[0;34m\u001b[0m\u001b[0m\n\u001b[0m\u001b[1;32m     27\u001b[0m \u001b[0;34m\u001b[0m\u001b[0m\n\u001b[1;32m     28\u001b[0m \u001b[0mpp4\u001b[0m \u001b[0;34m=\u001b[0m \u001b[0mip\u001b[0m\u001b[0;34m(\u001b[0m\u001b[0mpp\u001b[0m\u001b[0;34m,\u001b[0m\u001b[0muc0\u001b[0m\u001b[0;34m)\u001b[0m\u001b[0;34m*\u001b[0m\u001b[0muc0\u001b[0m\u001b[0;34m+\u001b[0m \u001b[0mip\u001b[0m\u001b[0;34m(\u001b[0m\u001b[0mpp\u001b[0m\u001b[0;34m,\u001b[0m\u001b[0muc1\u001b[0m\u001b[0;34m)\u001b[0m\u001b[0;34m*\u001b[0m\u001b[0muc1\u001b[0m \u001b[0;34m+\u001b[0m \u001b[0mip\u001b[0m\u001b[0;34m(\u001b[0m\u001b[0mpp\u001b[0m\u001b[0;34m,\u001b[0m\u001b[0mus1\u001b[0m\u001b[0;34m)\u001b[0m\u001b[0;34m*\u001b[0m\u001b[0mus1\u001b[0m \u001b[0;34m+\u001b[0m \u001b[0mip\u001b[0m\u001b[0;34m(\u001b[0m\u001b[0mpp\u001b[0m\u001b[0;34m,\u001b[0m\u001b[0muc2\u001b[0m\u001b[0;34m)\u001b[0m\u001b[0;34m*\u001b[0m\u001b[0muc2\u001b[0m  \u001b[0;34m+\u001b[0m \u001b[0mip\u001b[0m\u001b[0;34m(\u001b[0m\u001b[0mpp\u001b[0m\u001b[0;34m,\u001b[0m\u001b[0mus2\u001b[0m\u001b[0;34m)\u001b[0m\u001b[0;34m*\u001b[0m\u001b[0mus2\u001b[0m \u001b[0;34m+\u001b[0m \u001b[0mip\u001b[0m\u001b[0;34m(\u001b[0m\u001b[0mpp\u001b[0m\u001b[0;34m,\u001b[0m\u001b[0muc3\u001b[0m\u001b[0;34m)\u001b[0m\u001b[0;34m*\u001b[0m\u001b[0muc3\u001b[0m  \u001b[0;34m+\u001b[0m \u001b[0mip\u001b[0m\u001b[0;34m(\u001b[0m\u001b[0mpp\u001b[0m\u001b[0;34m,\u001b[0m\u001b[0mus3\u001b[0m\u001b[0;34m)\u001b[0m\u001b[0;34m*\u001b[0m\u001b[0mus3\u001b[0m \u001b[0;34m+\u001b[0m \u001b[0mip\u001b[0m\u001b[0;34m(\u001b[0m\u001b[0mpp\u001b[0m\u001b[0;34m,\u001b[0m\u001b[0muc4\u001b[0m\u001b[0;34m)\u001b[0m\u001b[0;34m*\u001b[0m\u001b[0muc4\u001b[0m \u001b[0;34m+\u001b[0m \u001b[0mip\u001b[0m\u001b[0;34m(\u001b[0m\u001b[0mpp\u001b[0m\u001b[0;34m,\u001b[0m\u001b[0mus4\u001b[0m\u001b[0;34m)\u001b[0m\u001b[0;34m*\u001b[0m\u001b[0mus4\u001b[0m\u001b[0;34m\u001b[0m\u001b[0;34m\u001b[0m\u001b[0m\n",
            "\u001b[0;32m/usr/local/lib/python3.7/dist-packages/sympy/plotting/plot.py\u001b[0m in \u001b[0;36mshow\u001b[0;34m(self)\u001b[0m\n\u001b[1;32m    217\u001b[0m             \u001b[0mself\u001b[0m\u001b[0;34m.\u001b[0m\u001b[0m_backend\u001b[0m\u001b[0;34m.\u001b[0m\u001b[0mclose\u001b[0m\u001b[0;34m(\u001b[0m\u001b[0;34m)\u001b[0m\u001b[0;34m\u001b[0m\u001b[0;34m\u001b[0m\u001b[0m\n\u001b[1;32m    218\u001b[0m         \u001b[0mself\u001b[0m\u001b[0;34m.\u001b[0m\u001b[0m_backend\u001b[0m \u001b[0;34m=\u001b[0m \u001b[0mself\u001b[0m\u001b[0;34m.\u001b[0m\u001b[0mbackend\u001b[0m\u001b[0;34m(\u001b[0m\u001b[0mself\u001b[0m\u001b[0;34m)\u001b[0m\u001b[0;34m\u001b[0m\u001b[0;34m\u001b[0m\u001b[0m\n\u001b[0;32m--> 219\u001b[0;31m         \u001b[0mself\u001b[0m\u001b[0;34m.\u001b[0m\u001b[0m_backend\u001b[0m\u001b[0;34m.\u001b[0m\u001b[0mshow\u001b[0m\u001b[0;34m(\u001b[0m\u001b[0;34m)\u001b[0m\u001b[0;34m\u001b[0m\u001b[0;34m\u001b[0m\u001b[0m\n\u001b[0m\u001b[1;32m    220\u001b[0m \u001b[0;34m\u001b[0m\u001b[0m\n\u001b[1;32m    221\u001b[0m     \u001b[0;32mdef\u001b[0m \u001b[0msave\u001b[0m\u001b[0;34m(\u001b[0m\u001b[0mself\u001b[0m\u001b[0;34m,\u001b[0m \u001b[0mpath\u001b[0m\u001b[0;34m)\u001b[0m\u001b[0;34m:\u001b[0m\u001b[0;34m\u001b[0m\u001b[0;34m\u001b[0m\u001b[0m\n",
            "\u001b[0;32m/usr/local/lib/python3.7/dist-packages/sympy/plotting/plot.py\u001b[0m in \u001b[0;36mshow\u001b[0;34m(self)\u001b[0m\n\u001b[1;32m   1399\u001b[0m \u001b[0;34m\u001b[0m\u001b[0m\n\u001b[1;32m   1400\u001b[0m     \u001b[0;32mdef\u001b[0m \u001b[0mshow\u001b[0m\u001b[0;34m(\u001b[0m\u001b[0mself\u001b[0m\u001b[0;34m)\u001b[0m\u001b[0;34m:\u001b[0m\u001b[0;34m\u001b[0m\u001b[0;34m\u001b[0m\u001b[0m\n\u001b[0;32m-> 1401\u001b[0;31m         \u001b[0mself\u001b[0m\u001b[0;34m.\u001b[0m\u001b[0mprocess_series\u001b[0m\u001b[0;34m(\u001b[0m\u001b[0;34m)\u001b[0m\u001b[0;34m\u001b[0m\u001b[0;34m\u001b[0m\u001b[0m\n\u001b[0m\u001b[1;32m   1402\u001b[0m         \u001b[0;31m#TODO after fixing https://github.com/ipython/ipython/issues/1255\u001b[0m\u001b[0;34m\u001b[0m\u001b[0;34m\u001b[0m\u001b[0;34m\u001b[0m\u001b[0m\n\u001b[1;32m   1403\u001b[0m         \u001b[0;31m# you can uncomment the next line and remove the pyplot.show() call\u001b[0m\u001b[0;34m\u001b[0m\u001b[0;34m\u001b[0m\u001b[0;34m\u001b[0m\u001b[0m\n",
            "\u001b[0;32m/usr/local/lib/python3.7/dist-packages/sympy/plotting/plot.py\u001b[0m in \u001b[0;36mprocess_series\u001b[0;34m(self)\u001b[0m\n\u001b[1;32m   1396\u001b[0m             \u001b[0;32mif\u001b[0m \u001b[0misinstance\u001b[0m\u001b[0;34m(\u001b[0m\u001b[0mself\u001b[0m\u001b[0;34m.\u001b[0m\u001b[0mparent\u001b[0m\u001b[0;34m,\u001b[0m \u001b[0mPlotGrid\u001b[0m\u001b[0;34m)\u001b[0m\u001b[0;34m:\u001b[0m\u001b[0;34m\u001b[0m\u001b[0;34m\u001b[0m\u001b[0m\n\u001b[1;32m   1397\u001b[0m                 \u001b[0mparent\u001b[0m \u001b[0;34m=\u001b[0m \u001b[0mself\u001b[0m\u001b[0;34m.\u001b[0m\u001b[0mparent\u001b[0m\u001b[0;34m.\u001b[0m\u001b[0margs\u001b[0m\u001b[0;34m[\u001b[0m\u001b[0mi\u001b[0m\u001b[0;34m]\u001b[0m\u001b[0;34m\u001b[0m\u001b[0;34m\u001b[0m\u001b[0m\n\u001b[0;32m-> 1398\u001b[0;31m             \u001b[0mself\u001b[0m\u001b[0;34m.\u001b[0m\u001b[0m_process_series\u001b[0m\u001b[0;34m(\u001b[0m\u001b[0mseries\u001b[0m\u001b[0;34m,\u001b[0m \u001b[0max\u001b[0m\u001b[0;34m,\u001b[0m \u001b[0mparent\u001b[0m\u001b[0;34m)\u001b[0m\u001b[0;34m\u001b[0m\u001b[0;34m\u001b[0m\u001b[0m\n\u001b[0m\u001b[1;32m   1399\u001b[0m \u001b[0;34m\u001b[0m\u001b[0m\n\u001b[1;32m   1400\u001b[0m     \u001b[0;32mdef\u001b[0m \u001b[0mshow\u001b[0m\u001b[0;34m(\u001b[0m\u001b[0mself\u001b[0m\u001b[0;34m)\u001b[0m\u001b[0;34m:\u001b[0m\u001b[0;34m\u001b[0m\u001b[0;34m\u001b[0m\u001b[0m\n",
            "\u001b[0;32m/usr/local/lib/python3.7/dist-packages/sympy/plotting/plot.py\u001b[0m in \u001b[0;36m_process_series\u001b[0;34m(self, series, ax, parent)\u001b[0m\n\u001b[1;32m   1224\u001b[0m             \u001b[0;31m# Create the collections\u001b[0m\u001b[0;34m\u001b[0m\u001b[0;34m\u001b[0m\u001b[0;34m\u001b[0m\u001b[0m\n\u001b[1;32m   1225\u001b[0m             \u001b[0;32mif\u001b[0m \u001b[0ms\u001b[0m\u001b[0;34m.\u001b[0m\u001b[0mis_2Dline\u001b[0m\u001b[0;34m:\u001b[0m\u001b[0;34m\u001b[0m\u001b[0;34m\u001b[0m\u001b[0m\n\u001b[0;32m-> 1226\u001b[0;31m                 \u001b[0mcollection\u001b[0m \u001b[0;34m=\u001b[0m \u001b[0mself\u001b[0m\u001b[0;34m.\u001b[0m\u001b[0mLineCollection\u001b[0m\u001b[0;34m(\u001b[0m\u001b[0ms\u001b[0m\u001b[0;34m.\u001b[0m\u001b[0mget_segments\u001b[0m\u001b[0;34m(\u001b[0m\u001b[0;34m)\u001b[0m\u001b[0;34m)\u001b[0m\u001b[0;34m\u001b[0m\u001b[0;34m\u001b[0m\u001b[0m\n\u001b[0m\u001b[1;32m   1227\u001b[0m                 \u001b[0max\u001b[0m\u001b[0;34m.\u001b[0m\u001b[0madd_collection\u001b[0m\u001b[0;34m(\u001b[0m\u001b[0mcollection\u001b[0m\u001b[0;34m)\u001b[0m\u001b[0;34m\u001b[0m\u001b[0;34m\u001b[0m\u001b[0m\n\u001b[1;32m   1228\u001b[0m             \u001b[0;32melif\u001b[0m \u001b[0ms\u001b[0m\u001b[0;34m.\u001b[0m\u001b[0mis_contour\u001b[0m\u001b[0;34m:\u001b[0m\u001b[0;34m\u001b[0m\u001b[0;34m\u001b[0m\u001b[0m\n",
            "\u001b[0;32m/usr/local/lib/python3.7/dist-packages/sympy/plotting/plot.py\u001b[0m in \u001b[0;36mget_segments\u001b[0;34m(self)\u001b[0m\n\u001b[1;32m    693\u001b[0m                     \u001b[0mlist_segments\u001b[0m\u001b[0;34m.\u001b[0m\u001b[0mappend\u001b[0m\u001b[0;34m(\u001b[0m\u001b[0;34m[\u001b[0m\u001b[0mp\u001b[0m\u001b[0;34m,\u001b[0m \u001b[0mq\u001b[0m\u001b[0;34m]\u001b[0m\u001b[0;34m)\u001b[0m\u001b[0;34m\u001b[0m\u001b[0;34m\u001b[0m\u001b[0m\n\u001b[1;32m    694\u001b[0m \u001b[0;34m\u001b[0m\u001b[0m\n\u001b[0;32m--> 695\u001b[0;31m             \u001b[0mf_start\u001b[0m \u001b[0;34m=\u001b[0m \u001b[0mf\u001b[0m\u001b[0;34m(\u001b[0m\u001b[0mself\u001b[0m\u001b[0;34m.\u001b[0m\u001b[0mstart\u001b[0m\u001b[0;34m)\u001b[0m\u001b[0;34m\u001b[0m\u001b[0;34m\u001b[0m\u001b[0m\n\u001b[0m\u001b[1;32m    696\u001b[0m             \u001b[0mf_end\u001b[0m \u001b[0;34m=\u001b[0m \u001b[0mf\u001b[0m\u001b[0;34m(\u001b[0m\u001b[0mself\u001b[0m\u001b[0;34m.\u001b[0m\u001b[0mend\u001b[0m\u001b[0;34m)\u001b[0m\u001b[0;34m\u001b[0m\u001b[0;34m\u001b[0m\u001b[0m\n\u001b[1;32m    697\u001b[0m             sample(np.array([self.start, f_start]),\n",
            "\u001b[0;32m/usr/local/lib/python3.7/dist-packages/sympy/plotting/experimental_lambdify.py\u001b[0m in \u001b[0;36m__call__\u001b[0;34m(self, args)\u001b[0m\n\u001b[1;32m    168\u001b[0m         \u001b[0;32mtry\u001b[0m\u001b[0;34m:\u001b[0m\u001b[0;34m\u001b[0m\u001b[0;34m\u001b[0m\u001b[0m\n\u001b[1;32m    169\u001b[0m             \u001b[0;31m#The result can be sympy.Float. Hence wrap it with complex type.\u001b[0m\u001b[0;34m\u001b[0m\u001b[0;34m\u001b[0m\u001b[0;34m\u001b[0m\u001b[0m\n\u001b[0;32m--> 170\u001b[0;31m             \u001b[0mresult\u001b[0m \u001b[0;34m=\u001b[0m \u001b[0mcomplex\u001b[0m\u001b[0;34m(\u001b[0m\u001b[0mself\u001b[0m\u001b[0;34m.\u001b[0m\u001b[0mlambda_func\u001b[0m\u001b[0;34m(\u001b[0m\u001b[0margs\u001b[0m\u001b[0;34m)\u001b[0m\u001b[0;34m)\u001b[0m\u001b[0;34m\u001b[0m\u001b[0;34m\u001b[0m\u001b[0m\n\u001b[0m\u001b[1;32m    171\u001b[0m             \u001b[0;32mif\u001b[0m \u001b[0mabs\u001b[0m\u001b[0;34m(\u001b[0m\u001b[0mresult\u001b[0m\u001b[0;34m.\u001b[0m\u001b[0mimag\u001b[0m\u001b[0;34m)\u001b[0m \u001b[0;34m>\u001b[0m \u001b[0;36m1e-7\u001b[0m \u001b[0;34m*\u001b[0m \u001b[0mabs\u001b[0m\u001b[0;34m(\u001b[0m\u001b[0mresult\u001b[0m\u001b[0;34m)\u001b[0m\u001b[0;34m:\u001b[0m\u001b[0;34m\u001b[0m\u001b[0;34m\u001b[0m\u001b[0m\n\u001b[1;32m    172\u001b[0m                 \u001b[0;32mreturn\u001b[0m \u001b[0;32mNone\u001b[0m\u001b[0;34m\u001b[0m\u001b[0;34m\u001b[0m\u001b[0m\n",
            "\u001b[0;32m/usr/local/lib/python3.7/dist-packages/sympy/plotting/experimental_lambdify.py\u001b[0m in \u001b[0;36m__call__\u001b[0;34m(self, *args, **kwargs)\u001b[0m\n\u001b[1;32m    265\u001b[0m \u001b[0;34m\u001b[0m\u001b[0m\n\u001b[1;32m    266\u001b[0m     \u001b[0;32mdef\u001b[0m \u001b[0m__call__\u001b[0m\u001b[0;34m(\u001b[0m\u001b[0mself\u001b[0m\u001b[0;34m,\u001b[0m \u001b[0;34m*\u001b[0m\u001b[0margs\u001b[0m\u001b[0;34m,\u001b[0m \u001b[0;34m**\u001b[0m\u001b[0mkwargs\u001b[0m\u001b[0;34m)\u001b[0m\u001b[0;34m:\u001b[0m\u001b[0;34m\u001b[0m\u001b[0;34m\u001b[0m\u001b[0m\n\u001b[0;32m--> 267\u001b[0;31m         \u001b[0;32mreturn\u001b[0m \u001b[0mself\u001b[0m\u001b[0;34m.\u001b[0m\u001b[0mlambda_func\u001b[0m\u001b[0;34m(\u001b[0m\u001b[0;34m*\u001b[0m\u001b[0margs\u001b[0m\u001b[0;34m,\u001b[0m \u001b[0;34m**\u001b[0m\u001b[0mkwargs\u001b[0m\u001b[0;34m)\u001b[0m\u001b[0;34m\u001b[0m\u001b[0;34m\u001b[0m\u001b[0m\n\u001b[0m\u001b[1;32m    268\u001b[0m \u001b[0;34m\u001b[0m\u001b[0m\n\u001b[1;32m    269\u001b[0m \u001b[0;34m\u001b[0m\u001b[0m\n",
            "\u001b[0;32m<string>\u001b[0m in \u001b[0;36m<lambda>\u001b[0;34m(x0)\u001b[0m\n",
            "\u001b[0;31mNameError\u001b[0m: name 'nan' is not defined"
          ]
        },
        {
          "output_type": "display_data",
          "data": {
            "text/plain": [
              "<Figure size 432x288 with 1 Axes>"
            ],
            "image/png": "[encoded data removed]"
          },
          "metadata": {
            "needs_background": "light"
          }
        }
      ]
    },
    {
      "cell_type": "markdown",
      "source": [
        "### 5b. Approximate $e^x$ in this orthonormal basis"
      ],
      "metadata": {
        "id": "ljOeN8D81NwM"
      }
    },
    {
      "cell_type": "code",
      "source": [
        "qq = sym.exp(x)\n",
        "plot_original = plot(qq, (x,-sym.pi,sym.pi), line_color='black', show=False)\n",
        "\n",
        "qq0 = ip(qq,uc0)*uc0 \n",
        "plot0 = plot(qq0, (x,-sym.pi,sym.pi), line_color='red', show=False)\n",
        "print(\"0th aqqroximation to \", qq , \" is: \", qq0)\n",
        "plot0.extend(plot_original)\n",
        "plot0.show()\n",
        "\n",
        "qq1 = ip(qq,uc0)*uc0 + ip(qq,uc1)*uc1 + ip(qq,us1)*us1 \n",
        "plot1 = plot(qq1, (x,-sym.pi,sym.pi), line_color='orange', show=False)\n",
        "print(\"1st aqqroximation to \", qq , \" is: \", qq1)\n",
        "plot1.extend(plot_original)\n",
        "plot1.show()\n",
        "\n",
        "qq2 = ip(qq,uc0)*uc0+ ip(qq,uc1)*uc1 + ip(qq,us1)*us1 + ip(qq,uc2)*uc2  + ip(qq,us2)*us2\n",
        "plot2 = plot(qq2, (x,-sym.pi,sym.pi), line_color='green', show=False)\n",
        "print(\"2nd aqqroximation to \", qq , \" is: \", qq2)\n",
        "plot2.extend(plot_original)\n",
        "plot2.show()\n",
        "\n",
        "qq3 = ip(qq,uc0)*uc0+ ip(qq,uc1)*uc1 + ip(qq,us1)*us1 + ip(qq,uc2)*uc2  + ip(qq,us2)*us2 + ip(qq,uc3)*uc3  + ip(qq,us3)*us3\n",
        "plot3 = plot(qq3, (x,-sym.pi,sym.pi), line_color='blue', show=False)\n",
        "print(\"3rd aqqroximation to \", qq , \" is: \", qq3)\n",
        "plot3.extend(plot_original)\n",
        "plot3.show()\n",
        "\n",
        "qq4 = ip(qq,uc0)*uc0+ ip(qq,uc1)*uc1 + ip(qq,us1)*us1 + ip(qq,uc2)*uc2  + ip(qq,us2)*us2 + ip(qq,uc3)*uc3  + ip(qq,us3)*us3 + ip(qq,uc4)*uc4 + ip(qq,us4)*us4\n",
        "plot4 = plot(qq4, (x,-sym.pi,sym.pi), line_color='purple', show=False)\n",
        "print(\"4th aqqroximation to \", qq , \" is: \", qq4)\n",
        "plot4.extend(plot_original)\n",
        "plot4.show()\n",
        "\n",
        "\n",
        "# plot all of them:\n",
        "plot_original.extend(plot0)\n",
        "plot_original.extend(plot1)\n",
        "plot_original.extend(plot2)\n",
        "plot_original.extend(plot3)\n",
        "plot_original.extend(plot4)\n",
        "plot_original.show()"
      ],
      "metadata": {
        "id": "B6E-9cvCEuNj",
        "colab": {
          "base_uri": "https://localhost:8080/",
          "height": 1000
        },
        "outputId": "4dfa9262-619f-496d-8ff4-fe6fcfb54551"
      },
      "execution_count": 39,
      "outputs": [
        {
          "output_type": "stream",
          "name": "stdout",
          "text": [
            "0th aqqroximation to  exp(x)  is:  (-exp(-pi) + exp(pi))/(2*pi)\n"
          ]
        },
        {
          "output_type": "display_data",
          "data": {
            "text/plain": [
              "<Figure size 432x288 with 1 Axes>"
            ],
            "image/png": "[encoded data removed]"
          },
          "metadata": {
            "needs_background": "light"
          }
        },
        {
          "output_type": "stream",
          "name": "stdout",
          "text": [
            "1st aqqroximation to  exp(x)  is:  sqrt(2)*(-sqrt(2)*exp(-pi)/2 + sqrt(2)*exp(pi)/2)*sin(x)/(2*pi) + sqrt(2)*(-sqrt(2)*exp(pi)/2 + sqrt(2)*exp(-pi)/2)*cos(x)/(2*pi) + (-exp(-pi) + exp(pi))/(2*pi)\n"
          ]
        },
        {
          "output_type": "display_data",
          "data": {
            "text/plain": [
              "<Figure size 432x288 with 1 Axes>"
            ],
            "image/png": "[encoded data removed]"
          },
          "metadata": {
            "needs_background": "light"
          }
        },
        {
          "output_type": "stream",
          "name": "stdout",
          "text": [
            "2nd aqqroximation to  exp(x)  is:  sqrt(2)*(-sqrt(2)*exp(-pi)/2 + sqrt(2)*exp(pi)/2)*sin(x)/(2*pi) + sqrt(2)*(-2*sqrt(2)*exp(pi)/5 + 2*sqrt(2)*exp(-pi)/5)*sin(2*x)/(2*pi) + sqrt(2)*(-sqrt(2)*exp(pi)/2 + sqrt(2)*exp(-pi)/2)*cos(x)/(2*pi) + sqrt(2)*(-sqrt(2)*exp(-pi)/5 + sqrt(2)*exp(pi)/5)*cos(2*x)/(2*pi) + (-exp(-pi) + exp(pi))/(2*pi)\n"
          ]
        },
        {
          "output_type": "display_data",
          "data": {
            "text/plain": [
              "<Figure size 432x288 with 1 Axes>"
            ],
            "image/png": "[encoded data removed]"
          },
          "metadata": {
            "needs_background": "light"
          }
        },
        {
          "output_type": "stream",
          "name": "stdout",
          "text": [
            "3rd aqqroximation to  exp(x)  is:  nan\n"
          ]
        },
        {
          "output_type": "error",
          "ename": "NameError",
          "evalue": "ignored",
          "traceback": [
            "\u001b[0;31m---------------------------------------------------------------------------\u001b[0m",
            "\u001b[0;31mNameError\u001b[0m                                 Traceback (most recent call last)",
            "\u001b[0;32m<ipython-input-39-5124bd31e697>\u001b[0m in \u001b[0;36m<module>\u001b[0;34m\u001b[0m\n\u001b[1;32m     24\u001b[0m \u001b[0mprint\u001b[0m\u001b[0;34m(\u001b[0m\u001b[0;34m\"3rd aqqroximation to \"\u001b[0m\u001b[0;34m,\u001b[0m \u001b[0mqq\u001b[0m \u001b[0;34m,\u001b[0m \u001b[0;34m\" is: \"\u001b[0m\u001b[0;34m,\u001b[0m \u001b[0mqq3\u001b[0m\u001b[0;34m)\u001b[0m\u001b[0;34m\u001b[0m\u001b[0;34m\u001b[0m\u001b[0m\n\u001b[1;32m     25\u001b[0m \u001b[0mplot3\u001b[0m\u001b[0;34m.\u001b[0m\u001b[0mextend\u001b[0m\u001b[0;34m(\u001b[0m\u001b[0mplot_original\u001b[0m\u001b[0;34m)\u001b[0m\u001b[0;34m\u001b[0m\u001b[0;34m\u001b[0m\u001b[0m\n\u001b[0;32m---> 26\u001b[0;31m \u001b[0mplot3\u001b[0m\u001b[0;34m.\u001b[0m\u001b[0mshow\u001b[0m\u001b[0;34m(\u001b[0m\u001b[0;34m)\u001b[0m\u001b[0;34m\u001b[0m\u001b[0;34m\u001b[0m\u001b[0m\n\u001b[0m\u001b[1;32m     27\u001b[0m \u001b[0;34m\u001b[0m\u001b[0m\n\u001b[1;32m     28\u001b[0m \u001b[0mqq4\u001b[0m \u001b[0;34m=\u001b[0m \u001b[0mip\u001b[0m\u001b[0;34m(\u001b[0m\u001b[0mqq\u001b[0m\u001b[0;34m,\u001b[0m\u001b[0muc0\u001b[0m\u001b[0;34m)\u001b[0m\u001b[0;34m*\u001b[0m\u001b[0muc0\u001b[0m\u001b[0;34m+\u001b[0m \u001b[0mip\u001b[0m\u001b[0;34m(\u001b[0m\u001b[0mqq\u001b[0m\u001b[0;34m,\u001b[0m\u001b[0muc1\u001b[0m\u001b[0;34m)\u001b[0m\u001b[0;34m*\u001b[0m\u001b[0muc1\u001b[0m \u001b[0;34m+\u001b[0m \u001b[0mip\u001b[0m\u001b[0;34m(\u001b[0m\u001b[0mqq\u001b[0m\u001b[0;34m,\u001b[0m\u001b[0mus1\u001b[0m\u001b[0;34m)\u001b[0m\u001b[0;34m*\u001b[0m\u001b[0mus1\u001b[0m \u001b[0;34m+\u001b[0m \u001b[0mip\u001b[0m\u001b[0;34m(\u001b[0m\u001b[0mqq\u001b[0m\u001b[0;34m,\u001b[0m\u001b[0muc2\u001b[0m\u001b[0;34m)\u001b[0m\u001b[0;34m*\u001b[0m\u001b[0muc2\u001b[0m  \u001b[0;34m+\u001b[0m \u001b[0mip\u001b[0m\u001b[0;34m(\u001b[0m\u001b[0mqq\u001b[0m\u001b[0;34m,\u001b[0m\u001b[0mus2\u001b[0m\u001b[0;34m)\u001b[0m\u001b[0;34m*\u001b[0m\u001b[0mus2\u001b[0m \u001b[0;34m+\u001b[0m \u001b[0mip\u001b[0m\u001b[0;34m(\u001b[0m\u001b[0mqq\u001b[0m\u001b[0;34m,\u001b[0m\u001b[0muc3\u001b[0m\u001b[0;34m)\u001b[0m\u001b[0;34m*\u001b[0m\u001b[0muc3\u001b[0m  \u001b[0;34m+\u001b[0m \u001b[0mip\u001b[0m\u001b[0;34m(\u001b[0m\u001b[0mqq\u001b[0m\u001b[0;34m,\u001b[0m\u001b[0mus3\u001b[0m\u001b[0;34m)\u001b[0m\u001b[0;34m*\u001b[0m\u001b[0mus3\u001b[0m \u001b[0;34m+\u001b[0m \u001b[0mip\u001b[0m\u001b[0;34m(\u001b[0m\u001b[0mqq\u001b[0m\u001b[0;34m,\u001b[0m\u001b[0muc4\u001b[0m\u001b[0;34m)\u001b[0m\u001b[0;34m*\u001b[0m\u001b[0muc4\u001b[0m \u001b[0;34m+\u001b[0m \u001b[0mip\u001b[0m\u001b[0;34m(\u001b[0m\u001b[0mqq\u001b[0m\u001b[0;34m,\u001b[0m\u001b[0mus4\u001b[0m\u001b[0;34m)\u001b[0m\u001b[0;34m*\u001b[0m\u001b[0mus4\u001b[0m\u001b[0;34m\u001b[0m\u001b[0;34m\u001b[0m\u001b[0m\n",
            "\u001b[0;32m/usr/local/lib/python3.7/dist-packages/sympy/plotting/plot.py\u001b[0m in \u001b[0;36mshow\u001b[0;34m(self)\u001b[0m\n\u001b[1;32m    217\u001b[0m             \u001b[0mself\u001b[0m\u001b[0;34m.\u001b[0m\u001b[0m_backend\u001b[0m\u001b[0;34m.\u001b[0m\u001b[0mclose\u001b[0m\u001b[0;34m(\u001b[0m\u001b[0;34m)\u001b[0m\u001b[0;34m\u001b[0m\u001b[0;34m\u001b[0m\u001b[0m\n\u001b[1;32m    218\u001b[0m         \u001b[0mself\u001b[0m\u001b[0;34m.\u001b[0m\u001b[0m_backend\u001b[0m \u001b[0;34m=\u001b[0m \u001b[0mself\u001b[0m\u001b[0;34m.\u001b[0m\u001b[0mbackend\u001b[0m\u001b[0;34m(\u001b[0m\u001b[0mself\u001b[0m\u001b[0;34m)\u001b[0m\u001b[0;34m\u001b[0m\u001b[0;34m\u001b[0m\u001b[0m\n\u001b[0;32m--> 219\u001b[0;31m         \u001b[0mself\u001b[0m\u001b[0;34m.\u001b[0m\u001b[0m_backend\u001b[0m\u001b[0;34m.\u001b[0m\u001b[0mshow\u001b[0m\u001b[0;34m(\u001b[0m\u001b[0;34m)\u001b[0m\u001b[0;34m\u001b[0m\u001b[0;34m\u001b[0m\u001b[0m\n\u001b[0m\u001b[1;32m    220\u001b[0m \u001b[0;34m\u001b[0m\u001b[0m\n\u001b[1;32m    221\u001b[0m     \u001b[0;32mdef\u001b[0m \u001b[0msave\u001b[0m\u001b[0;34m(\u001b[0m\u001b[0mself\u001b[0m\u001b[0;34m,\u001b[0m \u001b[0mpath\u001b[0m\u001b[0;34m)\u001b[0m\u001b[0;34m:\u001b[0m\u001b[0;34m\u001b[0m\u001b[0;34m\u001b[0m\u001b[0m\n",
            "\u001b[0;32m/usr/local/lib/python3.7/dist-packages/sympy/plotting/plot.py\u001b[0m in \u001b[0;36mshow\u001b[0;34m(self)\u001b[0m\n\u001b[1;32m   1399\u001b[0m \u001b[0;34m\u001b[0m\u001b[0m\n\u001b[1;32m   1400\u001b[0m     \u001b[0;32mdef\u001b[0m \u001b[0mshow\u001b[0m\u001b[0;34m(\u001b[0m\u001b[0mself\u001b[0m\u001b[0;34m)\u001b[0m\u001b[0;34m:\u001b[0m\u001b[0;34m\u001b[0m\u001b[0;34m\u001b[0m\u001b[0m\n\u001b[0;32m-> 1401\u001b[0;31m         \u001b[0mself\u001b[0m\u001b[0;34m.\u001b[0m\u001b[0mprocess_series\u001b[0m\u001b[0;34m(\u001b[0m\u001b[0;34m)\u001b[0m\u001b[0;34m\u001b[0m\u001b[0;34m\u001b[0m\u001b[0m\n\u001b[0m\u001b[1;32m   1402\u001b[0m         \u001b[0;31m#TODO after fixing https://github.com/ipython/ipython/issues/1255\u001b[0m\u001b[0;34m\u001b[0m\u001b[0;34m\u001b[0m\u001b[0;34m\u001b[0m\u001b[0m\n\u001b[1;32m   1403\u001b[0m         \u001b[0;31m# you can uncomment the next line and remove the pyplot.show() call\u001b[0m\u001b[0;34m\u001b[0m\u001b[0;34m\u001b[0m\u001b[0;34m\u001b[0m\u001b[0m\n",
            "\u001b[0;32m/usr/local/lib/python3.7/dist-packages/sympy/plotting/plot.py\u001b[0m in \u001b[0;36mprocess_series\u001b[0;34m(self)\u001b[0m\n\u001b[1;32m   1396\u001b[0m             \u001b[0;32mif\u001b[0m \u001b[0misinstance\u001b[0m\u001b[0;34m(\u001b[0m\u001b[0mself\u001b[0m\u001b[0;34m.\u001b[0m\u001b[0mparent\u001b[0m\u001b[0;34m,\u001b[0m \u001b[0mPlotGrid\u001b[0m\u001b[0;34m)\u001b[0m\u001b[0;34m:\u001b[0m\u001b[0;34m\u001b[0m\u001b[0;34m\u001b[0m\u001b[0m\n\u001b[1;32m   1397\u001b[0m                 \u001b[0mparent\u001b[0m \u001b[0;34m=\u001b[0m \u001b[0mself\u001b[0m\u001b[0;34m.\u001b[0m\u001b[0mparent\u001b[0m\u001b[0;34m.\u001b[0m\u001b[0margs\u001b[0m\u001b[0;34m[\u001b[0m\u001b[0mi\u001b[0m\u001b[0;34m]\u001b[0m\u001b[0;34m\u001b[0m\u001b[0;34m\u001b[0m\u001b[0m\n\u001b[0;32m-> 1398\u001b[0;31m             \u001b[0mself\u001b[0m\u001b[0;34m.\u001b[0m\u001b[0m_process_series\u001b[0m\u001b[0;34m(\u001b[0m\u001b[0mseries\u001b[0m\u001b[0;34m,\u001b[0m \u001b[0max\u001b[0m\u001b[0;34m,\u001b[0m \u001b[0mparent\u001b[0m\u001b[0;34m)\u001b[0m\u001b[0;34m\u001b[0m\u001b[0;34m\u001b[0m\u001b[0m\n\u001b[0m\u001b[1;32m   1399\u001b[0m \u001b[0;34m\u001b[0m\u001b[0m\n\u001b[1;32m   1400\u001b[0m     \u001b[0;32mdef\u001b[0m \u001b[0mshow\u001b[0m\u001b[0;34m(\u001b[0m\u001b[0mself\u001b[0m\u001b[0;34m)\u001b[0m\u001b[0;34m:\u001b[0m\u001b[0;34m\u001b[0m\u001b[0;34m\u001b[0m\u001b[0m\n",
            "\u001b[0;32m/usr/local/lib/python3.7/dist-packages/sympy/plotting/plot.py\u001b[0m in \u001b[0;36m_process_series\u001b[0;34m(self, series, ax, parent)\u001b[0m\n\u001b[1;32m   1224\u001b[0m             \u001b[0;31m# Create the collections\u001b[0m\u001b[0;34m\u001b[0m\u001b[0;34m\u001b[0m\u001b[0;34m\u001b[0m\u001b[0m\n\u001b[1;32m   1225\u001b[0m             \u001b[0;32mif\u001b[0m \u001b[0ms\u001b[0m\u001b[0;34m.\u001b[0m\u001b[0mis_2Dline\u001b[0m\u001b[0;34m:\u001b[0m\u001b[0;34m\u001b[0m\u001b[0;34m\u001b[0m\u001b[0m\n\u001b[0;32m-> 1226\u001b[0;31m                 \u001b[0mcollection\u001b[0m \u001b[0;34m=\u001b[0m \u001b[0mself\u001b[0m\u001b[0;34m.\u001b[0m\u001b[0mLineCollection\u001b[0m\u001b[0;34m(\u001b[0m\u001b[0ms\u001b[0m\u001b[0;34m.\u001b[0m\u001b[0mget_segments\u001b[0m\u001b[0;34m(\u001b[0m\u001b[0;34m)\u001b[0m\u001b[0;34m)\u001b[0m\u001b[0;34m\u001b[0m\u001b[0;34m\u001b[0m\u001b[0m\n\u001b[0m\u001b[1;32m   1227\u001b[0m                 \u001b[0max\u001b[0m\u001b[0;34m.\u001b[0m\u001b[0madd_collection\u001b[0m\u001b[0;34m(\u001b[0m\u001b[0mcollection\u001b[0m\u001b[0;34m)\u001b[0m\u001b[0;34m\u001b[0m\u001b[0;34m\u001b[0m\u001b[0m\n\u001b[1;32m   1228\u001b[0m             \u001b[0;32melif\u001b[0m \u001b[0ms\u001b[0m\u001b[0;34m.\u001b[0m\u001b[0mis_contour\u001b[0m\u001b[0;34m:\u001b[0m\u001b[0;34m\u001b[0m\u001b[0;34m\u001b[0m\u001b[0m\n",
            "\u001b[0;32m/usr/local/lib/python3.7/dist-packages/sympy/plotting/plot.py\u001b[0m in \u001b[0;36mget_segments\u001b[0;34m(self)\u001b[0m\n\u001b[1;32m    693\u001b[0m                     \u001b[0mlist_segments\u001b[0m\u001b[0;34m.\u001b[0m\u001b[0mappend\u001b[0m\u001b[0;34m(\u001b[0m\u001b[0;34m[\u001b[0m\u001b[0mp\u001b[0m\u001b[0;34m,\u001b[0m \u001b[0mq\u001b[0m\u001b[0;34m]\u001b[0m\u001b[0;34m)\u001b[0m\u001b[0;34m\u001b[0m\u001b[0;34m\u001b[0m\u001b[0m\n\u001b[1;32m    694\u001b[0m \u001b[0;34m\u001b[0m\u001b[0m\n\u001b[0;32m--> 695\u001b[0;31m             \u001b[0mf_start\u001b[0m \u001b[0;34m=\u001b[0m \u001b[0mf\u001b[0m\u001b[0;34m(\u001b[0m\u001b[0mself\u001b[0m\u001b[0;34m.\u001b[0m\u001b[0mstart\u001b[0m\u001b[0;34m)\u001b[0m\u001b[0;34m\u001b[0m\u001b[0;34m\u001b[0m\u001b[0m\n\u001b[0m\u001b[1;32m    696\u001b[0m             \u001b[0mf_end\u001b[0m \u001b[0;34m=\u001b[0m \u001b[0mf\u001b[0m\u001b[0;34m(\u001b[0m\u001b[0mself\u001b[0m\u001b[0;34m.\u001b[0m\u001b[0mend\u001b[0m\u001b[0;34m)\u001b[0m\u001b[0;34m\u001b[0m\u001b[0;34m\u001b[0m\u001b[0m\n\u001b[1;32m    697\u001b[0m             sample(np.array([self.start, f_start]),\n",
            "\u001b[0;32m/usr/local/lib/python3.7/dist-packages/sympy/plotting/experimental_lambdify.py\u001b[0m in \u001b[0;36m__call__\u001b[0;34m(self, args)\u001b[0m\n\u001b[1;32m    168\u001b[0m         \u001b[0;32mtry\u001b[0m\u001b[0;34m:\u001b[0m\u001b[0;34m\u001b[0m\u001b[0;34m\u001b[0m\u001b[0m\n\u001b[1;32m    169\u001b[0m             \u001b[0;31m#The result can be sympy.Float. Hence wrap it with complex type.\u001b[0m\u001b[0;34m\u001b[0m\u001b[0;34m\u001b[0m\u001b[0;34m\u001b[0m\u001b[0m\n\u001b[0;32m--> 170\u001b[0;31m             \u001b[0mresult\u001b[0m \u001b[0;34m=\u001b[0m \u001b[0mcomplex\u001b[0m\u001b[0;34m(\u001b[0m\u001b[0mself\u001b[0m\u001b[0;34m.\u001b[0m\u001b[0mlambda_func\u001b[0m\u001b[0;34m(\u001b[0m\u001b[0margs\u001b[0m\u001b[0;34m)\u001b[0m\u001b[0;34m)\u001b[0m\u001b[0;34m\u001b[0m\u001b[0;34m\u001b[0m\u001b[0m\n\u001b[0m\u001b[1;32m    171\u001b[0m             \u001b[0;32mif\u001b[0m \u001b[0mabs\u001b[0m\u001b[0;34m(\u001b[0m\u001b[0mresult\u001b[0m\u001b[0;34m.\u001b[0m\u001b[0mimag\u001b[0m\u001b[0;34m)\u001b[0m \u001b[0;34m>\u001b[0m \u001b[0;36m1e-7\u001b[0m \u001b[0;34m*\u001b[0m \u001b[0mabs\u001b[0m\u001b[0;34m(\u001b[0m\u001b[0mresult\u001b[0m\u001b[0;34m)\u001b[0m\u001b[0;34m:\u001b[0m\u001b[0;34m\u001b[0m\u001b[0;34m\u001b[0m\u001b[0m\n\u001b[1;32m    172\u001b[0m                 \u001b[0;32mreturn\u001b[0m \u001b[0;32mNone\u001b[0m\u001b[0;34m\u001b[0m\u001b[0;34m\u001b[0m\u001b[0m\n",
            "\u001b[0;32m/usr/local/lib/python3.7/dist-packages/sympy/plotting/experimental_lambdify.py\u001b[0m in \u001b[0;36m__call__\u001b[0;34m(self, *args, **kwargs)\u001b[0m\n\u001b[1;32m    265\u001b[0m \u001b[0;34m\u001b[0m\u001b[0m\n\u001b[1;32m    266\u001b[0m     \u001b[0;32mdef\u001b[0m \u001b[0m__call__\u001b[0m\u001b[0;34m(\u001b[0m\u001b[0mself\u001b[0m\u001b[0;34m,\u001b[0m \u001b[0;34m*\u001b[0m\u001b[0margs\u001b[0m\u001b[0;34m,\u001b[0m \u001b[0;34m**\u001b[0m\u001b[0mkwargs\u001b[0m\u001b[0;34m)\u001b[0m\u001b[0;34m:\u001b[0m\u001b[0;34m\u001b[0m\u001b[0;34m\u001b[0m\u001b[0m\n\u001b[0;32m--> 267\u001b[0;31m         \u001b[0;32mreturn\u001b[0m \u001b[0mself\u001b[0m\u001b[0;34m.\u001b[0m\u001b[0mlambda_func\u001b[0m\u001b[0;34m(\u001b[0m\u001b[0;34m*\u001b[0m\u001b[0margs\u001b[0m\u001b[0;34m,\u001b[0m \u001b[0;34m**\u001b[0m\u001b[0mkwargs\u001b[0m\u001b[0;34m)\u001b[0m\u001b[0;34m\u001b[0m\u001b[0;34m\u001b[0m\u001b[0m\n\u001b[0m\u001b[1;32m    268\u001b[0m \u001b[0;34m\u001b[0m\u001b[0m\n\u001b[1;32m    269\u001b[0m \u001b[0;34m\u001b[0m\u001b[0m\n",
            "\u001b[0;32m<string>\u001b[0m in \u001b[0;36m<lambda>\u001b[0;34m(x0)\u001b[0m\n",
            "\u001b[0;31mNameError\u001b[0m: name 'nan' is not defined"
          ]
        },
        {
          "output_type": "display_data",
          "data": {
            "text/plain": [
              "<Figure size 432x288 with 1 Axes>"
            ],
            "image/png": "[encoded data removed]"
          },
          "metadata": {
            "needs_background": "light"
          }
        }
      ]
    },
    {
      "cell_type": "markdown",
      "source": [
        "### 5c. Approximate the polynomial $1 - x + x^2 - x^3 + x^4 $ in this orthonormal basis"
      ],
      "metadata": {
        "id": "qByxu36B1SVU"
      }
    },
    {
      "cell_type": "code",
      "source": [
        "ss = 1-x+x**2-x**3+x**4\n",
        "\n",
        "plot_original = plot(ss, (x,-sym.pi,sym.pi), line_color='black', show=False)\n",
        "ss0 = ip(ss,uc0)*uc0 \n",
        "plot0 = plot(ss0, (x,-sym.pi,sym.pi), line_color='red', show=False)\n",
        "print(\"0th assroximation to \", ss , \" is: \", ss0)\n",
        "plot0.extend(plot_original)\n",
        "plot0.show()\n",
        "\n",
        "ss1 = ip(ss,uc0)*uc0 + ip(ss,uc1)*uc1 + ip(ss,us1)*us1 \n",
        "plot1 = plot(ss1, (x,-sym.pi,sym.pi), line_color='orange', show=False)\n",
        "print(\"1st assroximation to \", ss , \" is: \", ss1)\n",
        "plot1.extend(plot_original)\n",
        "plot1.show()\n",
        "\n",
        "ss2 = ip(ss,uc0)*uc0+ ip(ss,uc1)*uc1 + ip(ss,us1)*us1 + ip(ss,uc2)*uc2  + ip(ss,us2)*us2\n",
        "plot2 = plot(ss2, (x,-sym.pi,sym.pi), line_color='green', show=False)\n",
        "print(\"2nd assroximation to \", ss , \" is: \", ss2)\n",
        "plot2.extend(plot_original)\n",
        "plot2.show()\n",
        "\n",
        "ss3 = ip(ss,uc0)*uc0+ ip(ss,uc1)*uc1 + ip(ss,us1)*us1 + ip(ss,uc2)*uc2  + ip(ss,us2)*us2 + ip(ss,uc3)*uc3  + ip(ss,us3)*us3\n",
        "plot3 = plot(ss3, (x,-sym.pi,sym.pi), line_color='blue', show=False)\n",
        "print(\"3rd assroximation to \", ss , \" is: \", ss3)\n",
        "plot3.extend(plot_original)\n",
        "plot3.show()\n",
        "\n",
        "ss4 = ip(ss,uc0)*uc0+ ip(ss,uc1)*uc1 + ip(ss,us1)*us1 + ip(ss,uc2)*uc2  + ip(ss,us2)*us2 + ip(ss,uc3)*uc3  + ip(ss,us3)*us3 + ip(ss,uc4)*uc4 + ip(ss,us4)*us4\n",
        "plot4 = plot(ss4, (x,-sym.pi,sym.pi), line_color='purple', show=False)\n",
        "print(\"4th assroximation to \", ss , \" is: \", ss4)\n",
        "plot4.extend(plot_original)\n",
        "plot4.show()\n",
        "\n",
        "\n",
        "# plot all of them:\n",
        "plot_original.extend(plot0)\n",
        "plot_original.extend(plot1)\n",
        "plot_original.extend(plot2)\n",
        "plot_original.extend(plot3)\n",
        "plot_original.extend(plot4)\n",
        "plot_original.show()"
      ],
      "metadata": {
        "id": "V3wQgN35AkwE",
        "colab": {
          "base_uri": "https://localhost:8080/",
          "height": 1000
        },
        "outputId": "135feadf-1491-4369-8bb8-8a89b4fe3f22"
      },
      "execution_count": 40,
      "outputs": [
        {
          "output_type": "stream",
          "name": "stdout",
          "text": [
            "0th assroximation to  x**4 - x**3 + x**2 - x + 1  is:  (2*pi + 2*pi**3/3 + 2*pi**5/5)/(2*pi)\n"
          ]
        },
        {
          "output_type": "display_data",
          "data": {
            "text/plain": [
              "<Figure size 432x288 with 1 Axes>"
            ],
            "image/png": "[encoded data removed]"
          },
          "metadata": {
            "needs_background": "light"
          }
        },
        {
          "output_type": "stream",
          "name": "stdout",
          "text": [
            "1st assroximation to  x**4 - x**3 + x**2 - x + 1  is:  sqrt(2)*(-sqrt(2)*(-11*pi**2 - 5*pi + 23 + pi**3 + pi**4) + sqrt(2)*(-11*pi**2 - pi**3 + 5*pi + 23 + pi**4))*sin(x)/(2*pi) + sqrt(2)*(-sqrt(2)*(-22*pi - 5 + 3*pi**2 + 4*pi**3) + sqrt(2)*(-4*pi**3 - 5 + 3*pi**2 + 22*pi))*cos(x)/(2*pi) + (2*pi + 2*pi**3/3 + 2*pi**5/5)/(2*pi)\n"
          ]
        },
        {
          "output_type": "display_data",
          "data": {
            "text/plain": [
              "<Figure size 432x288 with 1 Axes>"
            ],
            "image/png": "[encoded data removed]"
          },
          "metadata": {
            "needs_background": "light"
          }
        },
        {
          "output_type": "stream",
          "name": "stdout",
          "text": [
            "2nd assroximation to  x**4 - x**3 + x**2 - x + 1  is:  sqrt(2)*(-sqrt(2)*(-11*pi**2 - 5*pi + 23 + pi**3 + pi**4) + sqrt(2)*(-11*pi**2 - pi**3 + 5*pi + 23 + pi**4))*sin(x)/(2*pi) + sqrt(2)*(sqrt(2)*(-pi**4/2 - 1 - pi/4 + pi**2 + pi**3/2) - sqrt(2)*(-pi**4/2 - pi**3/2 - 1 + pi/4 + pi**2))*sin(2*x)/(2*pi) + sqrt(2)*(-sqrt(2)*(-22*pi - 5 + 3*pi**2 + 4*pi**3) + sqrt(2)*(-4*pi**3 - 5 + 3*pi**2 + 22*pi))*cos(x)/(2*pi) + sqrt(2)*(sqrt(2)*(-3*pi**2/4 - pi + 1/8 + pi**3) - sqrt(2)*(-pi**3 - 3*pi**2/4 + 1/8 + pi))*cos(2*x)/(2*pi) + (2*pi + 2*pi**3/3 + 2*pi**5/5)/(2*pi)\n"
          ]
        },
        {
          "output_type": "display_data",
          "data": {
            "text/plain": [
              "<Figure size 432x288 with 1 Axes>"
            ],
            "image/png": "[encoded data removed]"
          },
          "metadata": {
            "needs_background": "light"
          }
        },
        {
          "output_type": "error",
          "ename": "KeyboardInterrupt",
          "evalue": "ignored",
          "traceback": [
            "\u001b[0;31m---------------------------------------------------------------------------\u001b[0m",
            "\u001b[0;31mKeyboardInterrupt\u001b[0m                         Traceback (most recent call last)",
            "\u001b[0;32m<ipython-input-40-eaa557e8d686>\u001b[0m in \u001b[0;36m<module>\u001b[0;34m\u001b[0m\n\u001b[1;32m     20\u001b[0m \u001b[0mplot2\u001b[0m\u001b[0;34m.\u001b[0m\u001b[0mshow\u001b[0m\u001b[0;34m(\u001b[0m\u001b[0;34m)\u001b[0m\u001b[0;34m\u001b[0m\u001b[0;34m\u001b[0m\u001b[0m\n\u001b[1;32m     21\u001b[0m \u001b[0;34m\u001b[0m\u001b[0m\n\u001b[0;32m---> 22\u001b[0;31m \u001b[0mss3\u001b[0m \u001b[0;34m=\u001b[0m \u001b[0mip\u001b[0m\u001b[0;34m(\u001b[0m\u001b[0mss\u001b[0m\u001b[0;34m,\u001b[0m\u001b[0muc0\u001b[0m\u001b[0;34m)\u001b[0m\u001b[0;34m*\u001b[0m\u001b[0muc0\u001b[0m\u001b[0;34m+\u001b[0m \u001b[0mip\u001b[0m\u001b[0;34m(\u001b[0m\u001b[0mss\u001b[0m\u001b[0;34m,\u001b[0m\u001b[0muc1\u001b[0m\u001b[0;34m)\u001b[0m\u001b[0;34m*\u001b[0m\u001b[0muc1\u001b[0m \u001b[0;34m+\u001b[0m \u001b[0mip\u001b[0m\u001b[0;34m(\u001b[0m\u001b[0mss\u001b[0m\u001b[0;34m,\u001b[0m\u001b[0mus1\u001b[0m\u001b[0;34m)\u001b[0m\u001b[0;34m*\u001b[0m\u001b[0mus1\u001b[0m \u001b[0;34m+\u001b[0m \u001b[0mip\u001b[0m\u001b[0;34m(\u001b[0m\u001b[0mss\u001b[0m\u001b[0;34m,\u001b[0m\u001b[0muc2\u001b[0m\u001b[0;34m)\u001b[0m\u001b[0;34m*\u001b[0m\u001b[0muc2\u001b[0m  \u001b[0;34m+\u001b[0m \u001b[0mip\u001b[0m\u001b[0;34m(\u001b[0m\u001b[0mss\u001b[0m\u001b[0;34m,\u001b[0m\u001b[0mus2\u001b[0m\u001b[0;34m)\u001b[0m\u001b[0;34m*\u001b[0m\u001b[0mus2\u001b[0m \u001b[0;34m+\u001b[0m \u001b[0mip\u001b[0m\u001b[0;34m(\u001b[0m\u001b[0mss\u001b[0m\u001b[0;34m,\u001b[0m\u001b[0muc3\u001b[0m\u001b[0;34m)\u001b[0m\u001b[0;34m*\u001b[0m\u001b[0muc3\u001b[0m  \u001b[0;34m+\u001b[0m \u001b[0mip\u001b[0m\u001b[0;34m(\u001b[0m\u001b[0mss\u001b[0m\u001b[0;34m,\u001b[0m\u001b[0mus3\u001b[0m\u001b[0;34m)\u001b[0m\u001b[0;34m*\u001b[0m\u001b[0mus3\u001b[0m\u001b[0;34m\u001b[0m\u001b[0;34m\u001b[0m\u001b[0m\n\u001b[0m\u001b[1;32m     23\u001b[0m \u001b[0mplot3\u001b[0m \u001b[0;34m=\u001b[0m \u001b[0mplot\u001b[0m\u001b[0;34m(\u001b[0m\u001b[0mss3\u001b[0m\u001b[0;34m,\u001b[0m \u001b[0;34m(\u001b[0m\u001b[0mx\u001b[0m\u001b[0;34m,\u001b[0m\u001b[0;34m-\u001b[0m\u001b[0msym\u001b[0m\u001b[0;34m.\u001b[0m\u001b[0mpi\u001b[0m\u001b[0;34m,\u001b[0m\u001b[0msym\u001b[0m\u001b[0;34m.\u001b[0m\u001b[0mpi\u001b[0m\u001b[0;34m)\u001b[0m\u001b[0;34m,\u001b[0m \u001b[0mline_color\u001b[0m\u001b[0;34m=\u001b[0m\u001b[0;34m'blue'\u001b[0m\u001b[0;34m,\u001b[0m \u001b[0mshow\u001b[0m\u001b[0;34m=\u001b[0m\u001b[0;32mFalse\u001b[0m\u001b[0;34m)\u001b[0m\u001b[0;34m\u001b[0m\u001b[0;34m\u001b[0m\u001b[0m\n\u001b[1;32m     24\u001b[0m \u001b[0mprint\u001b[0m\u001b[0;34m(\u001b[0m\u001b[0;34m\"3rd assroximation to \"\u001b[0m\u001b[0;34m,\u001b[0m \u001b[0mss\u001b[0m \u001b[0;34m,\u001b[0m \u001b[0;34m\" is: \"\u001b[0m\u001b[0;34m,\u001b[0m \u001b[0mss3\u001b[0m\u001b[0;34m)\u001b[0m\u001b[0;34m\u001b[0m\u001b[0;34m\u001b[0m\u001b[0m\n",
            "\u001b[0;32m<ipython-input-6-a369cb346235>\u001b[0m in \u001b[0;36mip\u001b[0;34m(a, b)\u001b[0m\n\u001b[1;32m      1\u001b[0m \u001b[0;31m# YOU SHOULD FIX THIS:\u001b[0m\u001b[0;34m\u001b[0m\u001b[0;34m\u001b[0m\u001b[0;34m\u001b[0m\u001b[0m\n\u001b[1;32m      2\u001b[0m \u001b[0;32mdef\u001b[0m \u001b[0mip\u001b[0m\u001b[0;34m(\u001b[0m\u001b[0ma\u001b[0m\u001b[0;34m,\u001b[0m\u001b[0mb\u001b[0m\u001b[0;34m)\u001b[0m\u001b[0;34m:\u001b[0m\u001b[0;34m\u001b[0m\u001b[0;34m\u001b[0m\u001b[0m\n\u001b[0;32m----> 3\u001b[0;31m     \u001b[0;32mreturn\u001b[0m \u001b[0;34m(\u001b[0m\u001b[0;36m1\u001b[0m\u001b[0;34m/\u001b[0m\u001b[0;34m(\u001b[0m\u001b[0;36m2\u001b[0m\u001b[0;34m*\u001b[0m\u001b[0msym\u001b[0m\u001b[0;34m.\u001b[0m\u001b[0mpi\u001b[0m\u001b[0;34m)\u001b[0m\u001b[0;34m)\u001b[0m \u001b[0;34m*\u001b[0m \u001b[0msym\u001b[0m\u001b[0;34m.\u001b[0m\u001b[0mintegrate\u001b[0m\u001b[0;34m(\u001b[0m\u001b[0ma\u001b[0m\u001b[0;34m*\u001b[0m\u001b[0mb\u001b[0m\u001b[0;34m,\u001b[0m \u001b[0;34m(\u001b[0m\u001b[0mx\u001b[0m\u001b[0;34m,\u001b[0m \u001b[0;34m-\u001b[0m\u001b[0msym\u001b[0m\u001b[0;34m.\u001b[0m\u001b[0mpi\u001b[0m\u001b[0;34m,\u001b[0m \u001b[0msym\u001b[0m\u001b[0;34m.\u001b[0m\u001b[0mpi\u001b[0m\u001b[0;34m)\u001b[0m\u001b[0;34m)\u001b[0m\u001b[0;34m\u001b[0m\u001b[0;34m\u001b[0m\u001b[0m\n\u001b[0m\u001b[1;32m      4\u001b[0m \u001b[0;34m\u001b[0m\u001b[0m\n\u001b[1;32m      5\u001b[0m \u001b[0;32mdef\u001b[0m \u001b[0mn\u001b[0m\u001b[0;34m(\u001b[0m\u001b[0ma\u001b[0m\u001b[0;34m)\u001b[0m\u001b[0;34m:\u001b[0m\u001b[0;34m\u001b[0m\u001b[0;34m\u001b[0m\u001b[0m\n",
            "\u001b[0;32m/usr/local/lib/python3.7/dist-packages/sympy/integrals/integrals.py\u001b[0m in \u001b[0;36mintegrate\u001b[0;34m(meijerg, conds, risch, heurisch, manual, *args, **kwargs)\u001b[0m\n\u001b[1;32m   1542\u001b[0m \u001b[0;34m\u001b[0m\u001b[0m\n\u001b[1;32m   1543\u001b[0m     \u001b[0;32mif\u001b[0m \u001b[0misinstance\u001b[0m\u001b[0;34m(\u001b[0m\u001b[0mintegral\u001b[0m\u001b[0;34m,\u001b[0m \u001b[0mIntegral\u001b[0m\u001b[0;34m)\u001b[0m\u001b[0;34m:\u001b[0m\u001b[0;34m\u001b[0m\u001b[0;34m\u001b[0m\u001b[0m\n\u001b[0;32m-> 1544\u001b[0;31m         \u001b[0;32mreturn\u001b[0m \u001b[0mintegral\u001b[0m\u001b[0;34m.\u001b[0m\u001b[0mdoit\u001b[0m\u001b[0;34m(\u001b[0m\u001b[0;34m**\u001b[0m\u001b[0mdoit_flags\u001b[0m\u001b[0;34m)\u001b[0m\u001b[0;34m\u001b[0m\u001b[0;34m\u001b[0m\u001b[0m\n\u001b[0m\u001b[1;32m   1545\u001b[0m     \u001b[0;32melse\u001b[0m\u001b[0;34m:\u001b[0m\u001b[0;34m\u001b[0m\u001b[0;34m\u001b[0m\u001b[0m\n\u001b[1;32m   1546\u001b[0m         new_args = [a.doit(**doit_flags) if isinstance(a, Integral) else a\n",
            "\u001b[0;32m/usr/local/lib/python3.7/dist-packages/sympy/integrals/integrals.py\u001b[0m in \u001b[0;36mdoit\u001b[0;34m(self, **hints)\u001b[0m\n\u001b[1;32m    480\u001b[0m         \u001b[0;32mif\u001b[0m \u001b[0mreps\u001b[0m\u001b[0;34m:\u001b[0m\u001b[0;34m\u001b[0m\u001b[0;34m\u001b[0m\u001b[0m\n\u001b[1;32m    481\u001b[0m             \u001b[0mundo\u001b[0m \u001b[0;34m=\u001b[0m \u001b[0;34m{\u001b[0m\u001b[0mv\u001b[0m\u001b[0;34m:\u001b[0m \u001b[0mk\u001b[0m \u001b[0;32mfor\u001b[0m \u001b[0mk\u001b[0m\u001b[0;34m,\u001b[0m \u001b[0mv\u001b[0m \u001b[0;32min\u001b[0m \u001b[0mreps\u001b[0m\u001b[0;34m.\u001b[0m\u001b[0mitems\u001b[0m\u001b[0;34m(\u001b[0m\u001b[0;34m)\u001b[0m\u001b[0;34m}\u001b[0m\u001b[0;34m\u001b[0m\u001b[0;34m\u001b[0m\u001b[0m\n\u001b[0;32m--> 482\u001b[0;31m             \u001b[0mdid\u001b[0m \u001b[0;34m=\u001b[0m \u001b[0mself\u001b[0m\u001b[0;34m.\u001b[0m\u001b[0mxreplace\u001b[0m\u001b[0;34m(\u001b[0m\u001b[0mreps\u001b[0m\u001b[0;34m)\u001b[0m\u001b[0;34m.\u001b[0m\u001b[0mdoit\u001b[0m\u001b[0;34m(\u001b[0m\u001b[0;34m**\u001b[0m\u001b[0mhints\u001b[0m\u001b[0;34m)\u001b[0m\u001b[0;34m\u001b[0m\u001b[0;34m\u001b[0m\u001b[0m\n\u001b[0m\u001b[1;32m    483\u001b[0m             \u001b[0;32mif\u001b[0m \u001b[0mtype\u001b[0m\u001b[0;34m(\u001b[0m\u001b[0mdid\u001b[0m\u001b[0;34m)\u001b[0m \u001b[0;32mis\u001b[0m \u001b[0mtuple\u001b[0m\u001b[0;34m:\u001b[0m  \u001b[0;31m# when separate=True\u001b[0m\u001b[0;34m\u001b[0m\u001b[0;34m\u001b[0m\u001b[0m\n\u001b[1;32m    484\u001b[0m                 \u001b[0mdid\u001b[0m \u001b[0;34m=\u001b[0m \u001b[0mtuple\u001b[0m\u001b[0;34m(\u001b[0m\u001b[0;34m[\u001b[0m\u001b[0mi\u001b[0m\u001b[0;34m.\u001b[0m\u001b[0mxreplace\u001b[0m\u001b[0;34m(\u001b[0m\u001b[0mundo\u001b[0m\u001b[0;34m)\u001b[0m \u001b[0;32mfor\u001b[0m \u001b[0mi\u001b[0m \u001b[0;32min\u001b[0m \u001b[0mdid\u001b[0m\u001b[0;34m]\u001b[0m\u001b[0;34m)\u001b[0m\u001b[0;34m\u001b[0m\u001b[0;34m\u001b[0m\u001b[0m\n",
            "\u001b[0;32m/usr/local/lib/python3.7/dist-packages/sympy/integrals/integrals.py\u001b[0m in \u001b[0;36mdoit\u001b[0;34m(self, **hints)\u001b[0m\n\u001b[1;32m    592\u001b[0m                 \u001b[0;32melse\u001b[0m\u001b[0;34m:\u001b[0m\u001b[0;34m\u001b[0m\u001b[0;34m\u001b[0m\u001b[0m\n\u001b[1;32m    593\u001b[0m                     antideriv = self._eval_integral(\n\u001b[0;32m--> 594\u001b[0;31m                         function, xab[0], **eval_kwargs)\n\u001b[0m\u001b[1;32m    595\u001b[0m                     \u001b[0;32mif\u001b[0m \u001b[0mantideriv\u001b[0m \u001b[0;32mis\u001b[0m \u001b[0;32mNone\u001b[0m \u001b[0;32mand\u001b[0m \u001b[0mmeijerg\u001b[0m \u001b[0;32mis\u001b[0m \u001b[0;32mTrue\u001b[0m\u001b[0;34m:\u001b[0m\u001b[0;34m\u001b[0m\u001b[0;34m\u001b[0m\u001b[0m\n\u001b[1;32m    596\u001b[0m                         \u001b[0mret\u001b[0m \u001b[0;34m=\u001b[0m \u001b[0mtry_meijerg\u001b[0m\u001b[0;34m(\u001b[0m\u001b[0mfunction\u001b[0m\u001b[0;34m,\u001b[0m \u001b[0mxab\u001b[0m\u001b[0;34m)\u001b[0m\u001b[0;34m\u001b[0m\u001b[0;34m\u001b[0m\u001b[0m\n",
            "\u001b[0;32m/usr/local/lib/python3.7/dist-packages/sympy/integrals/integrals.py\u001b[0m in \u001b[0;36m_eval_integral\u001b[0;34m(self, f, x, meijerg, risch, manual, heurisch, conds)\u001b[0m\n\u001b[1;32m   1053\u001b[0m                     \u001b[0;32mtry\u001b[0m\u001b[0;34m:\u001b[0m\u001b[0;34m\u001b[0m\u001b[0;34m\u001b[0m\u001b[0m\n\u001b[1;32m   1054\u001b[0m                         \u001b[0;32mif\u001b[0m \u001b[0mconds\u001b[0m \u001b[0;34m==\u001b[0m \u001b[0;34m'piecewise'\u001b[0m\u001b[0;34m:\u001b[0m\u001b[0;34m\u001b[0m\u001b[0;34m\u001b[0m\u001b[0m\n\u001b[0;32m-> 1055\u001b[0;31m                             \u001b[0mh\u001b[0m \u001b[0;34m=\u001b[0m \u001b[0mheurisch_wrapper\u001b[0m\u001b[0;34m(\u001b[0m\u001b[0mg\u001b[0m\u001b[0;34m,\u001b[0m \u001b[0mx\u001b[0m\u001b[0;34m,\u001b[0m \u001b[0mhints\u001b[0m\u001b[0;34m=\u001b[0m\u001b[0;34m[\u001b[0m\u001b[0;34m]\u001b[0m\u001b[0;34m)\u001b[0m\u001b[0;34m\u001b[0m\u001b[0;34m\u001b[0m\u001b[0m\n\u001b[0m\u001b[1;32m   1056\u001b[0m                         \u001b[0;32melse\u001b[0m\u001b[0;34m:\u001b[0m\u001b[0;34m\u001b[0m\u001b[0;34m\u001b[0m\u001b[0m\n\u001b[1;32m   1057\u001b[0m                             \u001b[0mh\u001b[0m \u001b[0;34m=\u001b[0m \u001b[0mheurisch_\u001b[0m\u001b[0;34m(\u001b[0m\u001b[0mg\u001b[0m\u001b[0;34m,\u001b[0m \u001b[0mx\u001b[0m\u001b[0;34m,\u001b[0m \u001b[0mhints\u001b[0m\u001b[0;34m=\u001b[0m\u001b[0;34m[\u001b[0m\u001b[0;34m]\u001b[0m\u001b[0;34m)\u001b[0m\u001b[0;34m\u001b[0m\u001b[0;34m\u001b[0m\u001b[0m\n",
            "\u001b[0;32m/usr/local/lib/python3.7/dist-packages/sympy/integrals/heurisch.py\u001b[0m in \u001b[0;36mheurisch_wrapper\u001b[0;34m(f, x, rewrite, hints, mappings, retries, degree_offset, unnecessary_permutations, _try_heurisch)\u001b[0m\n\u001b[1;32m    135\u001b[0m \u001b[0;34m\u001b[0m\u001b[0m\n\u001b[1;32m    136\u001b[0m     res = heurisch(f, x, rewrite, hints, mappings, retries, degree_offset,\n\u001b[0;32m--> 137\u001b[0;31m                    unnecessary_permutations, _try_heurisch)\n\u001b[0m\u001b[1;32m    138\u001b[0m     \u001b[0;32mif\u001b[0m \u001b[0;32mnot\u001b[0m \u001b[0misinstance\u001b[0m\u001b[0;34m(\u001b[0m\u001b[0mres\u001b[0m\u001b[0;34m,\u001b[0m \u001b[0mBasic\u001b[0m\u001b[0;34m)\u001b[0m\u001b[0;34m:\u001b[0m\u001b[0;34m\u001b[0m\u001b[0;34m\u001b[0m\u001b[0m\n\u001b[1;32m    139\u001b[0m         \u001b[0;32mreturn\u001b[0m \u001b[0mres\u001b[0m\u001b[0;34m\u001b[0m\u001b[0;34m\u001b[0m\u001b[0m\n",
            "\u001b[0;32m/usr/local/lib/python3.7/dist-packages/sympy/integrals/heurisch.py\u001b[0m in \u001b[0;36mheurisch\u001b[0;34m(f, x, rewrite, hints, mappings, retries, degree_offset, unnecessary_permutations, _try_heurisch)\u001b[0m\n\u001b[1;32m    719\u001b[0m \u001b[0;34m\u001b[0m\u001b[0m\n\u001b[1;32m    720\u001b[0m     \u001b[0;32mif\u001b[0m \u001b[0;32mnot\u001b[0m \u001b[0;34m(\u001b[0m\u001b[0mF\u001b[0m\u001b[0;34m.\u001b[0m\u001b[0mfree_symbols\u001b[0m \u001b[0;34m-\u001b[0m \u001b[0mset\u001b[0m\u001b[0;34m(\u001b[0m\u001b[0mV\u001b[0m\u001b[0;34m)\u001b[0m\u001b[0;34m)\u001b[0m\u001b[0;34m:\u001b[0m\u001b[0;34m\u001b[0m\u001b[0;34m\u001b[0m\u001b[0m\n\u001b[0;32m--> 721\u001b[0;31m         \u001b[0msolution\u001b[0m \u001b[0;34m=\u001b[0m \u001b[0m_integrate\u001b[0m\u001b[0;34m(\u001b[0m\u001b[0;34m'Q'\u001b[0m\u001b[0;34m)\u001b[0m\u001b[0;34m\u001b[0m\u001b[0;34m\u001b[0m\u001b[0m\n\u001b[0m\u001b[1;32m    722\u001b[0m \u001b[0;34m\u001b[0m\u001b[0m\n\u001b[1;32m    723\u001b[0m         \u001b[0;32mif\u001b[0m \u001b[0msolution\u001b[0m \u001b[0;32mis\u001b[0m \u001b[0;32mNone\u001b[0m\u001b[0;34m:\u001b[0m\u001b[0;34m\u001b[0m\u001b[0;34m\u001b[0m\u001b[0m\n",
            "\u001b[0;32m/usr/local/lib/python3.7/dist-packages/sympy/integrals/heurisch.py\u001b[0m in \u001b[0;36m_integrate\u001b[0;34m(field)\u001b[0m\n\u001b[1;32m    715\u001b[0m             \u001b[0;32mreturn\u001b[0m \u001b[0;32mNone\u001b[0m\u001b[0;34m\u001b[0m\u001b[0;34m\u001b[0m\u001b[0m\n\u001b[1;32m    716\u001b[0m         \u001b[0;32melse\u001b[0m\u001b[0;34m:\u001b[0m\u001b[0;34m\u001b[0m\u001b[0;34m\u001b[0m\u001b[0m\n\u001b[0;32m--> 717\u001b[0;31m             return candidate.subs(solution).subs(\n\u001b[0m\u001b[1;32m    718\u001b[0m                 list(zip(poly_coeffs, [S.Zero]*len(poly_coeffs))))\n\u001b[1;32m    719\u001b[0m \u001b[0;34m\u001b[0m\u001b[0m\n",
            "\u001b[0;32m/usr/local/lib/python3.7/dist-packages/sympy/core/basic.py\u001b[0m in \u001b[0;36msubs\u001b[0;34m(self, *args, **kwargs)\u001b[0m\n\u001b[1;32m    946\u001b[0m             \u001b[0mrv\u001b[0m \u001b[0;34m=\u001b[0m \u001b[0mself\u001b[0m\u001b[0;34m\u001b[0m\u001b[0;34m\u001b[0m\u001b[0m\n\u001b[1;32m    947\u001b[0m             \u001b[0;32mfor\u001b[0m \u001b[0mold\u001b[0m\u001b[0;34m,\u001b[0m \u001b[0mnew\u001b[0m \u001b[0;32min\u001b[0m \u001b[0msequence\u001b[0m\u001b[0;34m:\u001b[0m\u001b[0;34m\u001b[0m\u001b[0;34m\u001b[0m\u001b[0m\n\u001b[0;32m--> 948\u001b[0;31m                 \u001b[0mrv\u001b[0m \u001b[0;34m=\u001b[0m \u001b[0mrv\u001b[0m\u001b[0;34m.\u001b[0m\u001b[0m_subs\u001b[0m\u001b[0;34m(\u001b[0m\u001b[0mold\u001b[0m\u001b[0;34m,\u001b[0m \u001b[0mnew\u001b[0m\u001b[0;34m,\u001b[0m \u001b[0;34m**\u001b[0m\u001b[0mkwargs\u001b[0m\u001b[0;34m)\u001b[0m\u001b[0;34m\u001b[0m\u001b[0;34m\u001b[0m\u001b[0m\n\u001b[0m\u001b[1;32m    949\u001b[0m                 \u001b[0;32mif\u001b[0m \u001b[0;32mnot\u001b[0m \u001b[0misinstance\u001b[0m\u001b[0;34m(\u001b[0m\u001b[0mrv\u001b[0m\u001b[0;34m,\u001b[0m \u001b[0mBasic\u001b[0m\u001b[0;34m)\u001b[0m\u001b[0;34m:\u001b[0m\u001b[0;34m\u001b[0m\u001b[0;34m\u001b[0m\u001b[0m\n\u001b[1;32m    950\u001b[0m                     \u001b[0;32mbreak\u001b[0m\u001b[0;34m\u001b[0m\u001b[0;34m\u001b[0m\u001b[0m\n",
            "\u001b[0;32m/usr/local/lib/python3.7/dist-packages/sympy/core/cache.py\u001b[0m in \u001b[0;36mwrapper\u001b[0;34m(*args, **kwargs)\u001b[0m\n\u001b[1;32m     70\u001b[0m         \u001b[0;32mdef\u001b[0m \u001b[0mwrapper\u001b[0m\u001b[0;34m(\u001b[0m\u001b[0;34m*\u001b[0m\u001b[0margs\u001b[0m\u001b[0;34m,\u001b[0m \u001b[0;34m**\u001b[0m\u001b[0mkwargs\u001b[0m\u001b[0;34m)\u001b[0m\u001b[0;34m:\u001b[0m\u001b[0;34m\u001b[0m\u001b[0;34m\u001b[0m\u001b[0m\n\u001b[1;32m     71\u001b[0m             \u001b[0;32mtry\u001b[0m\u001b[0;34m:\u001b[0m\u001b[0;34m\u001b[0m\u001b[0;34m\u001b[0m\u001b[0m\n\u001b[0;32m---> 72\u001b[0;31m                 \u001b[0mretval\u001b[0m \u001b[0;34m=\u001b[0m \u001b[0mcfunc\u001b[0m\u001b[0;34m(\u001b[0m\u001b[0;34m*\u001b[0m\u001b[0margs\u001b[0m\u001b[0;34m,\u001b[0m \u001b[0;34m**\u001b[0m\u001b[0mkwargs\u001b[0m\u001b[0;34m)\u001b[0m\u001b[0;34m\u001b[0m\u001b[0;34m\u001b[0m\u001b[0m\n\u001b[0m\u001b[1;32m     73\u001b[0m             \u001b[0;32mexcept\u001b[0m \u001b[0mTypeError\u001b[0m\u001b[0;34m:\u001b[0m\u001b[0;34m\u001b[0m\u001b[0;34m\u001b[0m\u001b[0m\n\u001b[1;32m     74\u001b[0m                 \u001b[0mretval\u001b[0m \u001b[0;34m=\u001b[0m \u001b[0mfunc\u001b[0m\u001b[0;34m(\u001b[0m\u001b[0;34m*\u001b[0m\u001b[0margs\u001b[0m\u001b[0;34m,\u001b[0m \u001b[0;34m**\u001b[0m\u001b[0mkwargs\u001b[0m\u001b[0;34m)\u001b[0m\u001b[0;34m\u001b[0m\u001b[0;34m\u001b[0m\u001b[0m\n",
            "\u001b[0;32m/usr/local/lib/python3.7/dist-packages/sympy/core/basic.py\u001b[0m in \u001b[0;36m_subs\u001b[0;34m(self, old, new, **hints)\u001b[0m\n\u001b[1;32m   1060\u001b[0m         \u001b[0mrv\u001b[0m \u001b[0;34m=\u001b[0m \u001b[0mself\u001b[0m\u001b[0;34m.\u001b[0m\u001b[0m_eval_subs\u001b[0m\u001b[0;34m(\u001b[0m\u001b[0mold\u001b[0m\u001b[0;34m,\u001b[0m \u001b[0mnew\u001b[0m\u001b[0;34m)\u001b[0m\u001b[0;34m\u001b[0m\u001b[0;34m\u001b[0m\u001b[0m\n\u001b[1;32m   1061\u001b[0m         \u001b[0;32mif\u001b[0m \u001b[0mrv\u001b[0m \u001b[0;32mis\u001b[0m \u001b[0;32mNone\u001b[0m\u001b[0;34m:\u001b[0m\u001b[0;34m\u001b[0m\u001b[0;34m\u001b[0m\u001b[0m\n\u001b[0;32m-> 1062\u001b[0;31m             \u001b[0mrv\u001b[0m \u001b[0;34m=\u001b[0m \u001b[0mfallback\u001b[0m\u001b[0;34m(\u001b[0m\u001b[0mself\u001b[0m\u001b[0;34m,\u001b[0m \u001b[0mold\u001b[0m\u001b[0;34m,\u001b[0m \u001b[0mnew\u001b[0m\u001b[0;34m)\u001b[0m\u001b[0;34m\u001b[0m\u001b[0;34m\u001b[0m\u001b[0m\n\u001b[0m\u001b[1;32m   1063\u001b[0m         \u001b[0;32mreturn\u001b[0m \u001b[0mrv\u001b[0m\u001b[0;34m\u001b[0m\u001b[0;34m\u001b[0m\u001b[0m\n\u001b[1;32m   1064\u001b[0m \u001b[0;34m\u001b[0m\u001b[0m\n",
            "\u001b[0;32m/usr/local/lib/python3.7/dist-packages/sympy/core/basic.py\u001b[0m in \u001b[0;36mfallback\u001b[0;34m(self, old, new)\u001b[0m\n\u001b[1;32m   1037\u001b[0m                     \u001b[0margs\u001b[0m\u001b[0;34m[\u001b[0m\u001b[0mi\u001b[0m\u001b[0;34m]\u001b[0m \u001b[0;34m=\u001b[0m \u001b[0marg\u001b[0m\u001b[0;34m\u001b[0m\u001b[0;34m\u001b[0m\u001b[0m\n\u001b[1;32m   1038\u001b[0m             \u001b[0;32mif\u001b[0m \u001b[0mhit\u001b[0m\u001b[0;34m:\u001b[0m\u001b[0;34m\u001b[0m\u001b[0;34m\u001b[0m\u001b[0m\n\u001b[0;32m-> 1039\u001b[0;31m                 \u001b[0mrv\u001b[0m \u001b[0;34m=\u001b[0m \u001b[0mself\u001b[0m\u001b[0;34m.\u001b[0m\u001b[0mfunc\u001b[0m\u001b[0;34m(\u001b[0m\u001b[0;34m*\u001b[0m\u001b[0margs\u001b[0m\u001b[0;34m)\u001b[0m\u001b[0;34m\u001b[0m\u001b[0;34m\u001b[0m\u001b[0m\n\u001b[0m\u001b[1;32m   1040\u001b[0m                 \u001b[0mhack2\u001b[0m \u001b[0;34m=\u001b[0m \u001b[0mhints\u001b[0m\u001b[0;34m.\u001b[0m\u001b[0mget\u001b[0m\u001b[0;34m(\u001b[0m\u001b[0;34m'hack2'\u001b[0m\u001b[0;34m,\u001b[0m \u001b[0;32mFalse\u001b[0m\u001b[0;34m)\u001b[0m\u001b[0;34m\u001b[0m\u001b[0;34m\u001b[0m\u001b[0m\n\u001b[1;32m   1041\u001b[0m                 \u001b[0;32mif\u001b[0m \u001b[0mhack2\u001b[0m \u001b[0;32mand\u001b[0m \u001b[0mself\u001b[0m\u001b[0;34m.\u001b[0m\u001b[0mis_Mul\u001b[0m \u001b[0;32mand\u001b[0m \u001b[0;32mnot\u001b[0m \u001b[0mrv\u001b[0m\u001b[0;34m.\u001b[0m\u001b[0mis_Mul\u001b[0m\u001b[0;34m:\u001b[0m  \u001b[0;31m# 2-arg hack\u001b[0m\u001b[0;34m\u001b[0m\u001b[0;34m\u001b[0m\u001b[0m\n",
            "\u001b[0;32m/usr/local/lib/python3.7/dist-packages/sympy/core/cache.py\u001b[0m in \u001b[0;36mwrapper\u001b[0;34m(*args, **kwargs)\u001b[0m\n\u001b[1;32m     70\u001b[0m         \u001b[0;32mdef\u001b[0m \u001b[0mwrapper\u001b[0m\u001b[0;34m(\u001b[0m\u001b[0;34m*\u001b[0m\u001b[0margs\u001b[0m\u001b[0;34m,\u001b[0m \u001b[0;34m**\u001b[0m\u001b[0mkwargs\u001b[0m\u001b[0;34m)\u001b[0m\u001b[0;34m:\u001b[0m\u001b[0;34m\u001b[0m\u001b[0;34m\u001b[0m\u001b[0m\n\u001b[1;32m     71\u001b[0m             \u001b[0;32mtry\u001b[0m\u001b[0;34m:\u001b[0m\u001b[0;34m\u001b[0m\u001b[0;34m\u001b[0m\u001b[0m\n\u001b[0;32m---> 72\u001b[0;31m                 \u001b[0mretval\u001b[0m \u001b[0;34m=\u001b[0m \u001b[0mcfunc\u001b[0m\u001b[0;34m(\u001b[0m\u001b[0;34m*\u001b[0m\u001b[0margs\u001b[0m\u001b[0;34m,\u001b[0m \u001b[0;34m**\u001b[0m\u001b[0mkwargs\u001b[0m\u001b[0;34m)\u001b[0m\u001b[0;34m\u001b[0m\u001b[0;34m\u001b[0m\u001b[0m\n\u001b[0m\u001b[1;32m     73\u001b[0m             \u001b[0;32mexcept\u001b[0m \u001b[0mTypeError\u001b[0m\u001b[0;34m:\u001b[0m\u001b[0;34m\u001b[0m\u001b[0;34m\u001b[0m\u001b[0m\n\u001b[1;32m     74\u001b[0m                 \u001b[0mretval\u001b[0m \u001b[0;34m=\u001b[0m \u001b[0mfunc\u001b[0m\u001b[0;34m(\u001b[0m\u001b[0;34m*\u001b[0m\u001b[0margs\u001b[0m\u001b[0;34m,\u001b[0m \u001b[0;34m**\u001b[0m\u001b[0mkwargs\u001b[0m\u001b[0;34m)\u001b[0m\u001b[0;34m\u001b[0m\u001b[0;34m\u001b[0m\u001b[0m\n",
            "\u001b[0;32m/usr/local/lib/python3.7/dist-packages/sympy/core/operations.py\u001b[0m in \u001b[0;36m__new__\u001b[0;34m(cls, evaluate, _sympify, *args)\u001b[0m\n\u001b[1;32m     83\u001b[0m             \u001b[0;32mreturn\u001b[0m \u001b[0margs\u001b[0m\u001b[0;34m[\u001b[0m\u001b[0;36m0\u001b[0m\u001b[0;34m]\u001b[0m\u001b[0;34m\u001b[0m\u001b[0;34m\u001b[0m\u001b[0m\n\u001b[1;32m     84\u001b[0m \u001b[0;34m\u001b[0m\u001b[0m\n\u001b[0;32m---> 85\u001b[0;31m         \u001b[0mc_part\u001b[0m\u001b[0;34m,\u001b[0m \u001b[0mnc_part\u001b[0m\u001b[0;34m,\u001b[0m \u001b[0morder_symbols\u001b[0m \u001b[0;34m=\u001b[0m \u001b[0mcls\u001b[0m\u001b[0;34m.\u001b[0m\u001b[0mflatten\u001b[0m\u001b[0;34m(\u001b[0m\u001b[0margs\u001b[0m\u001b[0;34m)\u001b[0m\u001b[0;34m\u001b[0m\u001b[0;34m\u001b[0m\u001b[0m\n\u001b[0m\u001b[1;32m     86\u001b[0m         \u001b[0mis_commutative\u001b[0m \u001b[0;34m=\u001b[0m \u001b[0;32mnot\u001b[0m \u001b[0mnc_part\u001b[0m\u001b[0;34m\u001b[0m\u001b[0;34m\u001b[0m\u001b[0m\n\u001b[1;32m     87\u001b[0m         \u001b[0mobj\u001b[0m \u001b[0;34m=\u001b[0m \u001b[0mcls\u001b[0m\u001b[0;34m.\u001b[0m\u001b[0m_from_args\u001b[0m\u001b[0;34m(\u001b[0m\u001b[0mc_part\u001b[0m \u001b[0;34m+\u001b[0m \u001b[0mnc_part\u001b[0m\u001b[0;34m,\u001b[0m \u001b[0mis_commutative\u001b[0m\u001b[0;34m)\u001b[0m\u001b[0;34m\u001b[0m\u001b[0;34m\u001b[0m\u001b[0m\n",
            "\u001b[0;32m/usr/local/lib/python3.7/dist-packages/sympy/core/add.py\u001b[0m in \u001b[0;36mflatten\u001b[0;34m(cls, seq)\u001b[0m\n\u001b[1;32m    272\u001b[0m \u001b[0;34m\u001b[0m\u001b[0m\n\u001b[1;32m    273\u001b[0m         \u001b[0;31m# order args canonically\u001b[0m\u001b[0;34m\u001b[0m\u001b[0;34m\u001b[0m\u001b[0;34m\u001b[0m\u001b[0m\n\u001b[0;32m--> 274\u001b[0;31m         \u001b[0m_addsort\u001b[0m\u001b[0;34m(\u001b[0m\u001b[0mnewseq\u001b[0m\u001b[0;34m)\u001b[0m\u001b[0;34m\u001b[0m\u001b[0;34m\u001b[0m\u001b[0m\n\u001b[0m\u001b[1;32m    275\u001b[0m \u001b[0;34m\u001b[0m\u001b[0m\n\u001b[1;32m    276\u001b[0m         \u001b[0;31m# current code expects coeff to be first\u001b[0m\u001b[0;34m\u001b[0m\u001b[0;34m\u001b[0m\u001b[0;34m\u001b[0m\u001b[0m\n",
            "\u001b[0;32m/usr/local/lib/python3.7/dist-packages/sympy/core/add.py\u001b[0m in \u001b[0;36m_addsort\u001b[0;34m(args)\u001b[0m\n\u001b[1;32m     17\u001b[0m \u001b[0;32mdef\u001b[0m \u001b[0m_addsort\u001b[0m\u001b[0;34m(\u001b[0m\u001b[0margs\u001b[0m\u001b[0;34m)\u001b[0m\u001b[0;34m:\u001b[0m\u001b[0;34m\u001b[0m\u001b[0;34m\u001b[0m\u001b[0m\n\u001b[1;32m     18\u001b[0m     \u001b[0;31m# in-place sorting of args\u001b[0m\u001b[0;34m\u001b[0m\u001b[0;34m\u001b[0m\u001b[0;34m\u001b[0m\u001b[0m\n\u001b[0;32m---> 19\u001b[0;31m     \u001b[0margs\u001b[0m\u001b[0;34m.\u001b[0m\u001b[0msort\u001b[0m\u001b[0;34m(\u001b[0m\u001b[0mkey\u001b[0m\u001b[0;34m=\u001b[0m\u001b[0m_args_sortkey\u001b[0m\u001b[0;34m)\u001b[0m\u001b[0;34m\u001b[0m\u001b[0;34m\u001b[0m\u001b[0m\n\u001b[0m\u001b[1;32m     20\u001b[0m \u001b[0;34m\u001b[0m\u001b[0m\n\u001b[1;32m     21\u001b[0m \u001b[0;34m\u001b[0m\u001b[0m\n",
            "\u001b[0;32m/usr/local/lib/python3.7/dist-packages/sympy/core/basic.py\u001b[0m in \u001b[0;36mcompare\u001b[0;34m(self, other)\u001b[0m\n\u001b[1;32m    222\u001b[0m             \u001b[0mr\u001b[0m \u001b[0;34m=\u001b[0m \u001b[0mBasic\u001b[0m\u001b[0;34m(\u001b[0m\u001b[0;34m*\u001b[0m\u001b[0mr\u001b[0m\u001b[0;34m)\u001b[0m \u001b[0;32mif\u001b[0m \u001b[0misinstance\u001b[0m\u001b[0;34m(\u001b[0m\u001b[0mr\u001b[0m\u001b[0;34m,\u001b[0m \u001b[0mfrozenset\u001b[0m\u001b[0;34m)\u001b[0m \u001b[0;32melse\u001b[0m \u001b[0mr\u001b[0m\u001b[0;34m\u001b[0m\u001b[0;34m\u001b[0m\u001b[0m\n\u001b[1;32m    223\u001b[0m             \u001b[0;32mif\u001b[0m \u001b[0misinstance\u001b[0m\u001b[0;34m(\u001b[0m\u001b[0ml\u001b[0m\u001b[0;34m,\u001b[0m \u001b[0mBasic\u001b[0m\u001b[0;34m)\u001b[0m\u001b[0;34m:\u001b[0m\u001b[0;34m\u001b[0m\u001b[0;34m\u001b[0m\u001b[0m\n\u001b[0;32m--> 224\u001b[0;31m                 \u001b[0mc\u001b[0m \u001b[0;34m=\u001b[0m \u001b[0ml\u001b[0m\u001b[0;34m.\u001b[0m\u001b[0mcompare\u001b[0m\u001b[0;34m(\u001b[0m\u001b[0mr\u001b[0m\u001b[0;34m)\u001b[0m\u001b[0;34m\u001b[0m\u001b[0;34m\u001b[0m\u001b[0m\n\u001b[0m\u001b[1;32m    225\u001b[0m             \u001b[0;32melse\u001b[0m\u001b[0;34m:\u001b[0m\u001b[0;34m\u001b[0m\u001b[0;34m\u001b[0m\u001b[0m\n\u001b[1;32m    226\u001b[0m                 \u001b[0mc\u001b[0m \u001b[0;34m=\u001b[0m \u001b[0;34m(\u001b[0m\u001b[0ml\u001b[0m \u001b[0;34m>\u001b[0m \u001b[0mr\u001b[0m\u001b[0;34m)\u001b[0m \u001b[0;34m-\u001b[0m \u001b[0;34m(\u001b[0m\u001b[0ml\u001b[0m \u001b[0;34m<\u001b[0m \u001b[0mr\u001b[0m\u001b[0;34m)\u001b[0m\u001b[0;34m\u001b[0m\u001b[0;34m\u001b[0m\u001b[0m\n",
            "\u001b[0;32m/usr/local/lib/python3.7/dist-packages/sympy/core/basic.py\u001b[0m in \u001b[0;36mcompare\u001b[0;34m(self, other)\u001b[0m\n\u001b[1;32m    183\u001b[0m         \u001b[0;32mreturn\u001b[0m \u001b[0;34m{\u001b[0m\u001b[0;34m}\u001b[0m\u001b[0;34m\u001b[0m\u001b[0;34m\u001b[0m\u001b[0m\n\u001b[1;32m    184\u001b[0m \u001b[0;34m\u001b[0m\u001b[0m\n\u001b[0;32m--> 185\u001b[0;31m     \u001b[0;32mdef\u001b[0m \u001b[0mcompare\u001b[0m\u001b[0;34m(\u001b[0m\u001b[0mself\u001b[0m\u001b[0;34m,\u001b[0m \u001b[0mother\u001b[0m\u001b[0;34m)\u001b[0m\u001b[0;34m:\u001b[0m\u001b[0;34m\u001b[0m\u001b[0;34m\u001b[0m\u001b[0m\n\u001b[0m\u001b[1;32m    186\u001b[0m         \"\"\"\n\u001b[1;32m    187\u001b[0m         \u001b[0mReturn\u001b[0m \u001b[0;34m-\u001b[0m\u001b[0;36m1\u001b[0m\u001b[0;34m,\u001b[0m \u001b[0;36m0\u001b[0m\u001b[0;34m,\u001b[0m \u001b[0;36m1\u001b[0m \u001b[0;32mif\u001b[0m \u001b[0mthe\u001b[0m \u001b[0mobject\u001b[0m \u001b[0;32mis\u001b[0m \u001b[0msmaller\u001b[0m\u001b[0;34m,\u001b[0m \u001b[0mequal\u001b[0m\u001b[0;34m,\u001b[0m \u001b[0;32mor\u001b[0m \u001b[0mgreater\u001b[0m \u001b[0mthan\u001b[0m \u001b[0mother\u001b[0m\u001b[0;34m.\u001b[0m\u001b[0;34m\u001b[0m\u001b[0;34m\u001b[0m\u001b[0m\n",
            "\u001b[0;31mKeyboardInterrupt\u001b[0m: "
          ]
        }
      ]
    },
    {
      "cell_type": "code",
      "source": [],
      "metadata": {
        "id": "sIWDkAFDN4Jq"
      },
      "execution_count": null,
      "outputs": []
    }
  ]
}