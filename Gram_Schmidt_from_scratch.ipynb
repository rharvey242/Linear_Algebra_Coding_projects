{
  "nbformat": 4,
  "nbformat_minor": 0,
  "metadata": {
    "colab": {
      "provenance": [],
      "authorship_tag": "ABX9TyOfGClW22bWwKJmWc//ijPd",
      "include_colab_link": true
    },
    "kernelspec": {
      "name": "python3",
      "display_name": "Python 3"
    },
    "language_info": {
      "name": "python"
    }
  },
  "cells": [
    {
      "cell_type": "markdown",
      "metadata": {
        "id": "view-in-github",
        "colab_type": "text"
      },
      "source": [
        "<a href=\"https://colab.research.google.com/github/rharvey242/Linear_Algebra_Coding_projects/blob/main/Gram_Schmidt_from_scratch.ipynb\" target=\"_parent\"><img src=\"https://colab.research.google.com/assets/colab-badge.svg\" alt=\"Open In Colab\"/></a>"
      ]
    },
    {
      "cell_type": "code",
      "execution_count": 43,
      "metadata": {
        "id": "dbgKHDuMMgHw"
      },
      "outputs": [],
      "source": [
        "import matplotlib.pyplot as plt\n",
        "from sympy import Poly\n",
        "import sympy as sym\n",
        "import numpy as np\n",
        "from numpy import c_\n",
        "\n",
        "# We'll specify that x and t are variables:\n",
        "x, t = sym.symbols('x, t')\n",
        "\n",
        "ll = \"loaded\""
      ]
    },
    {
      "cell_type": "code",
      "source": [
        "#run 1\n",
        "r1=np.matrix([[3],[0],[3],[0]])\n",
        "r1"
      ],
      "metadata": {
        "colab": {
          "base_uri": "https://localhost:8080/"
        },
        "id": "4kmh3pooM3Jj",
        "outputId": "f2d7e7a4-5392-489d-c965-4a9a3a86fd5c"
      },
      "execution_count": 44,
      "outputs": [
        {
          "output_type": "execute_result",
          "data": {
            "text/plain": [
              "matrix([[3],\n",
              "        [0],\n",
              "        [3],\n",
              "        [0]])"
            ]
          },
          "metadata": {},
          "execution_count": 44
        }
      ]
    },
    {
      "cell_type": "code",
      "source": [
        "3*r1"
      ],
      "metadata": {
        "colab": {
          "base_uri": "https://localhost:8080/"
        },
        "id": "Z3WtXsByOJGP",
        "outputId": "7d4c44eb-caa3-4d58-ea41-aa8a14c4ef19"
      },
      "execution_count": 31,
      "outputs": [
        {
          "output_type": "execute_result",
          "data": {
            "text/plain": [
              "matrix([[9],\n",
              "        [0],\n",
              "        [9],\n",
              "        [0]])"
            ]
          },
          "metadata": {},
          "execution_count": 31
        }
      ]
    },
    {
      "cell_type": "code",
      "source": [
        "r1=np.array([3,0,3,0])\n",
        "r1"
      ],
      "metadata": {
        "colab": {
          "base_uri": "https://localhost:8080/"
        },
        "id": "ebLzmlfoOU_X",
        "outputId": "e727d9d1-f4ad-4bc9-b10b-a24e0af6e023"
      },
      "execution_count": 32,
      "outputs": [
        {
          "output_type": "execute_result",
          "data": {
            "text/plain": [
              "array([3, 0, 3, 0])"
            ]
          },
          "metadata": {},
          "execution_count": 32
        }
      ]
    },
    {
      "cell_type": "code",
      "source": [
        "r1.dot(r1)"
      ],
      "metadata": {
        "colab": {
          "base_uri": "https://localhost:8080/"
        },
        "id": "qaUUolPxOpzI",
        "outputId": "527d9d5b-9175-48ff-ae32-6d265e659240"
      },
      "execution_count": 33,
      "outputs": [
        {
          "output_type": "execute_result",
          "data": {
            "text/plain": [
              "18"
            ]
          },
          "metadata": {},
          "execution_count": 33
        }
      ]
    },
    {
      "cell_type": "code",
      "source": [
        "#magnitute of vector 1\n",
        "np.sqrt(r1.dot(r1))"
      ],
      "metadata": {
        "colab": {
          "base_uri": "https://localhost:8080/"
        },
        "id": "VtJ9GwmgOujb",
        "outputId": "2701cca5-bb4d-4dd4-c6fa-240145fd9201"
      },
      "execution_count": 34,
      "outputs": [
        {
          "output_type": "execute_result",
          "data": {
            "text/plain": [
              "4.242640687119285"
            ]
          },
          "metadata": {},
          "execution_count": 34
        }
      ]
    },
    {
      "cell_type": "code",
      "source": [],
      "metadata": {
        "id": "-1Ad-mk5P2ot"
      },
      "execution_count": 34,
      "outputs": []
    },
    {
      "cell_type": "markdown",
      "source": [
        "#Gram Schmidt orthonormalization Process\n",
        "\n",
        "we'll use the gram schmidt proccess to find orthonoraml vectors in $R^4$\n",
        "\n",
        "##Our random vectors: \n",
        "\n",
        "\n"
      ],
      "metadata": {
        "id": "8Xlc6ACyQMTX"
      }
    },
    {
      "cell_type": "code",
      "source": [
        "r1=np.array([3,0,3,0])\n",
        "r2=np.array([3,2,3,3])\n",
        "r3=np.array([-7,-4,-5,-6])\n",
        "r4=np.array([-7,-3,-11,2])\n",
        "\n",
        "\n",
        "#process r1\n",
        "#choose the vector and subrtract off the nice orthganal pieces\n",
        "t1=r1\n",
        "t1\n",
        "m =np.sqrt(t1.dot(t1))\n",
        "u1=(1/m)*t1\n",
        "u1"
      ],
      "metadata": {
        "colab": {
          "base_uri": "https://localhost:8080/"
        },
        "id": "Vs3GodPkQp43",
        "outputId": "7b4b6f96-b85e-4104-e769-d90d87314a3f"
      },
      "execution_count": 45,
      "outputs": [
        {
          "output_type": "execute_result",
          "data": {
            "text/plain": [
              "array([0.70710678, 0.        , 0.70710678, 0.        ])"
            ]
          },
          "metadata": {},
          "execution_count": 45
        }
      ]
    },
    {
      "cell_type": "code",
      "source": [
        "#process r2\n",
        "t2=r2-(u1.dot(r2))*u1\n",
        "t2\n",
        "m = np.sqrt(  t2.dot(t2) )\n",
        "m\n",
        "# create normal\n",
        "u2=(1/m)*t2\n",
        "u2"
      ],
      "metadata": {
        "colab": {
          "base_uri": "https://localhost:8080/"
        },
        "outputId": "4e8bc23f-c06a-4da2-a0ad-0bc46c11c019",
        "id": "7981F5UqSoeh"
      },
      "execution_count": 48,
      "outputs": [
        {
          "output_type": "execute_result",
          "data": {
            "text/plain": [
              "array([-1.23168186e-16,  5.54700196e-01, -1.23168186e-16,  8.32050294e-01])"
            ]
          },
          "metadata": {},
          "execution_count": 48
        }
      ]
    },
    {
      "cell_type": "code",
      "source": [
        "\n",
        "#process r3\n",
        "t3=r3-(u1.dot(r3))*u1-(u2.dot(r3))*u2\n",
        "t3\n",
        "m = np.sqrt(  t3.dot(t3) )\n",
        "m\n",
        "# create normal\n",
        "u3=(1/m)*t3\n",
        "u3"
      ],
      "metadata": {
        "colab": {
          "base_uri": "https://localhost:8080/"
        },
        "outputId": "e3763b88-1491-4c85-9e62-2897137ed59e",
        "id": "iC2tHozcTW-Q"
      },
      "execution_count": 49,
      "outputs": [
        {
          "output_type": "execute_result",
          "data": {
            "text/plain": [
              "array([-7.07106781e-01, -3.14018492e-16,  7.07106781e-01, -6.28036983e-16])"
            ]
          },
          "metadata": {},
          "execution_count": 49
        }
      ]
    },
    {
      "cell_type": "code",
      "source": [
        "#process r4\n",
        "t4=r4-(u1.dot(r4))*u1-(u2.dot(r4))*u2-(u3.dot(r4))*u3\n",
        "t3\n",
        "m = np.sqrt(  t3.dot(t3) )\n",
        "m\n",
        "# create normal\n",
        "u3=(1/m)*t3\n",
        "u3"
      ],
      "metadata": {
        "colab": {
          "base_uri": "https://localhost:8080/"
        },
        "id": "N09wqf5NUDkT",
        "outputId": "cf60be67-0fb5-4992-9c9a-b4264a71f556"
      },
      "execution_count": 50,
      "outputs": [
        {
          "output_type": "execute_result",
          "data": {
            "text/plain": [
              "array([-7.07106781e-01, -3.14018492e-16,  7.07106781e-01, -6.28036983e-16])"
            ]
          },
          "metadata": {},
          "execution_count": 50
        }
      ]
    },
    {
      "cell_type": "code",
      "source": [],
      "metadata": {
        "id": "q1FdOfebVFkn"
      },
      "execution_count": null,
      "outputs": []
    }
  ]
}